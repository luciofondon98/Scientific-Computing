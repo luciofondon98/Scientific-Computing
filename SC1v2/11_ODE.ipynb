{
 "cells": [
  {
   "cell_type": "markdown",
   "metadata": {},
   "source": [
    "<center>\n",
    "    <h1> INF-285 - Computación Científica</h1>\n",
    "    <h2> EDO - Aplicaciones Avanzadas </h2>\n",
    "    <h2> <a href=\"#acknowledgements\"> [S]cientific [C]omputing [T]eam </a> </h2>\n",
    "    <h2> Version: 1.15</h2>\n",
    "</center>"
   ]
  },
  {
   "cell_type": "markdown",
   "metadata": {},
   "source": [
    "## Algunos algoritmos utilizados en este notebook han sido obtenidos del libro \"Lloyd N. Trefethen, Spectral Methods in MATLAB, SIAM, Philadelphia, 2000\" y traducidos a python."
   ]
  },
  {
   "cell_type": "markdown",
   "metadata": {},
   "source": [
    "# Tabla de Contenidos\n",
    "* [Introducción](#intro)\n",
    "* [Configuraciones](#config)\n",
    "* [Problemas de Valor Inicial](#IVP)\n",
    "    * [Algunos Solver Típicos](#solver)\n",
    "        * [Regiones de Estabilidad](#stab)\n",
    "        * [Convergencia](#conver)\n",
    "    * [Problemas de segundo orden y más dimensiones](#high)\n",
    "* [Problemas de Valor de Frontera](#BVP)\n",
    "    * [Diferencias Finitas](#DD)\n",
    "    * [Método de Disparo](#MD)\n",
    "* [Acknowledgements](#acknowledgements)"
   ]
  },
  {
   "cell_type": "markdown",
   "metadata": {},
   "source": [
    "<div id='intro' />\n",
    "\n",
    "# Introducción\n",
    "En este notebook estudiaremos métodos numéricos para la resolución de ecuaciones diferenciales ordinarias (EDO). Se verán problemas de valor inicial (IVP) y de valor de frontera (BVP), sus principales métodos de resolución y se analizarán estabilidad y convergencia para los primeros mencionados."
   ]
  },
  {
   "cell_type": "markdown",
   "metadata": {},
   "source": [
    "<div id='config' />\n",
    "\n",
    "# Configuraciones\n",
    "\n",
    "### Librerías y parámetros utilizados en el notebook"
   ]
  },
  {
   "cell_type": "code",
   "execution_count": 1,
   "metadata": {},
   "outputs": [],
   "source": [
    "%matplotlib inline\n",
    "import matplotlib.pyplot as plt\n",
    "from matplotlib import pyplot #\n",
    "import numpy as np\n",
    "from scipy.integrate import odeint\n",
    "from pylab import * #\n",
    "from numpy import linalg as LA\n",
    "from matplotlib.legend_handler import HandlerLine2D\n",
    "from scipy.linalg import toeplitz\n",
    "from scipy.optimize import root\n",
    "from ipywidgets import interact\n",
    "import sympy as sym\n",
    "import matplotlib as mpl\n",
    "mpl.rcParams['font.size'] = 14\n",
    "mpl.rcParams['axes.labelsize'] = 20\n",
    "mpl.rcParams['xtick.labelsize'] = 14\n",
    "mpl.rcParams['ytick.labelsize'] = 14\n",
    "sym.init_printing()\n",
    "\n",
    "# Global parameter that controls the figure's size\n",
    "L = 15\n",
    "\n",
    "# Source: https://github.com/tclaudioe/Scientific-Computing/blob/master/SC5/02%20Differentiation%20matrices.ipynb\n",
    "def plot_matrices_with_values(ax,M):\n",
    "    N=M.shape[0]\n",
    "    cmap = plt.get_cmap('GnBu')\n",
    "    ax.matshow(M, cmap=cmap)\n",
    "    for i in np.arange(0, N):\n",
    "        for j in np.arange(0, N):\n",
    "            ax.text(i, j, '{:.2f}'.format(M[i,j]), va='center', ha='center', color='r')"
   ]
  },
  {
   "cell_type": "markdown",
   "metadata": {},
   "source": [
    "<div id='IVP' />\n",
    "\n",
    "# Problemas de Valor Inicial\n",
    "\n",
    "Un problema de valor inicial (IVP) corresponde a una ecuación diferencial ordinaria de la forma:\n",
    "\n",
    "$$ \\dot{y}(t) = f(t,y(t)) $$\n",
    "sujeta a una condición inicial:\n",
    "\n",
    "$$ y(t_0) = y_0 $$\n",
    "siendo un sistema que evoluciona en el tiempo."
   ]
  },
  {
   "cell_type": "markdown",
   "metadata": {},
   "source": [
    "<div id='solver' />\n",
    "\n",
    "# Algunos Solver Típicos\n",
    "\n",
    "Los solver típicos para resolver IVP's son los denominados métodos de Runge-Kutta, los cuales son un conjunto de métodos iterativos para la resolución numérica de ecuaciones diferenciales. Dentro de este conjunto, los más utilizados y los cuales veremos en este curso son:\n",
    "\n",
    "* <b>Runge-Kutta de primer orden (RK1) o Método de Euler: </b>\n",
    "\n",
    "\\begin{align*}\n",
    "k_1 &= h \\cdot f(t_i,y_i) \\\\\n",
    "y_{i+1} &= y_i + k_1\n",
    "\\end{align*}\n",
    "\n",
    "* <b>Runge-Kutta de segundo orden (RK2) </b>\n",
    "\n",
    "\\begin{align*}\n",
    "k_{1} &= h \\cdot f(t_i,y_i) \\\\\n",
    "k_{2} &= h \\cdot f(t_i + h, y_i + k_1) \\\\\n",
    "y_{i+1} &= y_i + \\dfrac{1}{2}(k_1 + k_2) \\\\\n",
    "\\end{align*}\n",
    "\n",
    "* <b>Runge-Kutta de cuarto orden (RK4) </b>\n",
    "\n",
    "\\begin{align*}\n",
    "k_{1} &= h \\cdot f(t_i,y_i) \\\\\n",
    "k_{2} &= h \\cdot f(t_i + \\dfrac{h}{2}, y_i + \\dfrac{1}{2}k_1) \\\\\n",
    "k_{3} &= h \\cdot f(t_i + \\dfrac{h}{2}, y_i + \\dfrac{1}{2}k_2) \\\\\n",
    "k_{4} &= h \\cdot f(t_i + h, y + k_3) \\\\\n",
    "y_{i+1} &= y_i + \\dfrac{1}{6}(k_1 + 2k_2 + 2k_3 + k_4) \n",
    "\\end{align*}\n",
    "\n",
    "Para todos los métodos vistos, $h$ corresponde a $\\Delta t$, es decir, la distancia entre un tiempo $t_i$ y el siguiente $t_{i+1}$, con $i =0,...,n-1$, al discretizar el intervalo de tiempo en $n$ subintervalos."
   ]
  },
  {
   "cell_type": "code",
   "execution_count": 2,
   "metadata": {},
   "outputs": [],
   "source": [
    "# Forward Euler Method\n",
    "def euler_ode(y,t,f,h):\n",
    "    return y+h*f(t,y)\n",
    "\n",
    "# Runge-Kutta of Second order\n",
    "def RK2_ode(y,t,f,h):\n",
    "    k1=y+h/2.0*f(t,y) #or euler_ode(y,t,f,h)\n",
    "    return y+h*f(t+h/2.0,k1)\n",
    "    # k1=h*f(t,y)\n",
    "    # return y+h*f(t+h/2.0,y+k1/2.0)\n",
    "\n",
    "# Runge-Kutta \n",
    "def RK4_ode(y,t,f,h):\n",
    "    k1=f(t,y)\n",
    "    k2=f(t+h/2.0,y+(h/2.0)*k1)\n",
    "    k3=f(t+h/2.0,y+(h/2.0)*k2)\n",
    "    k4=f(t+h,y+h*k3)\n",
    "    return y+(h/6.0)*(k1+2.0*k2+2.0*k3+k4)"
   ]
  },
  {
   "cell_type": "markdown",
   "metadata": {},
   "source": [
    "### Ejemplo en 1-D\n",
    "\n",
    "Resolviendo $\\dot{y}(t) = y(t)(1-y(t))$ para distintas condiciones iniciales $y_0$, tenemos:"
   ]
  },
  {
   "cell_type": "code",
   "execution_count": 3,
   "metadata": {},
   "outputs": [],
   "source": [
    "# Logistic Equation\n",
    "def my_f_1D(t,y):\n",
    "    return np.array(y*(1-y))"
   ]
  },
  {
   "cell_type": "code",
   "execution_count": 4,
   "metadata": {},
   "outputs": [
    {
     "data": {
      "application/vnd.jupyter.widget-view+json": {
       "model_id": "c192f87a21cd4e988b04952be9aee57b",
       "version_major": 2,
       "version_minor": 0
      },
      "text/plain": [
       "interactive(children=(FloatSlider(value=0.15, description='h', max=1.0, min=0.01, step=0.01), Dropdown(descrip…"
      ]
     },
     "metadata": {},
     "output_type": "display_data"
    },
    {
     "data": {
      "text/plain": [
       "<function __main__.plot_log_eq(h=0.15, solver='euler')>"
      ]
     },
     "execution_count": 4,
     "metadata": {},
     "output_type": "execute_result"
    }
   ],
   "source": [
    "def plot_log_eq(h=0.15,solver='euler'):\n",
    "    t_times = np.arange(0, 4, h)\n",
    "    fig = plt.figure(figsize=(L/2,L/2))\n",
    "    fig.clf()\n",
    "    ax = fig.gca()\n",
    "    ax.axis(\"equal\")\n",
    "    ax.grid(True)\n",
    "    ax.set_title(\"Numerical Approximations and Direction Field\")\n",
    "    ax.axis([0, 4, -2, 2])\n",
    "\n",
    "    for y0 in np.linspace(-1,5,40): \n",
    "        y_output = np.zeros(t_times.size)\n",
    "        y_output[0] = y0\n",
    "        for i in range(1,t_times.size):\n",
    "            if solver=='euler':\n",
    "                y_output[i]=euler_ode(y_output[i-1],t_times[i-1],my_f_1D,h)\n",
    "            elif solver=='RK2':\n",
    "                y_output[i]=RK2_ode(y_output[i-1],t_times[i-1],my_f_1D,h)\n",
    "            else:\n",
    "                y_output[i]=RK4_ode(y_output[i-1],t_times[i-1],my_f_1D,h)\n",
    "        plt.plot(t_times,y_output,'k-',alpha=0.5)\n",
    "        plt.plot(t_times,y_output,'.')\n",
    "\n",
    "    X,Y = np.meshgrid(np.arange(0,4,.2), np.arange(-2,2,.2))\n",
    "    theta = np.arctan(my_f_1D(0,Y))\n",
    "    U = np.cos(theta)\n",
    "    V = np.sin(theta)\n",
    "    plt.quiver(X,Y,U,V,alpha=0.5)\n",
    "interact(plot_log_eq,h=(0.01,1,0.01),solver=['euler','RK2','RK4'])"
   ]
  },
  {
   "cell_type": "markdown",
   "metadata": {},
   "source": [
    "<div id='stab' />\n",
    "\n",
    "## Regiones de Estabilidad\n",
    "\n",
    "Para analizar la estabilidad lineal de un método consideremos la ecuación diferencial $\\dot{y} = \\lambda y$, con $y(0)=1$, cuya solución es $y(t) = e^{\\lambda t}$.\n",
    "\n",
    "Para Euler tendríamos:\n",
    "\n",
    "\\begin{align*}\n",
    "    y_{i+1} &= y_i + \\lambda h y_i \\\\\n",
    "    y_{i+1} &= (1 + \\lambda h ) y_i \\\\\n",
    "    y_{i+1} &= (1 + \\lambda h )^{i+1} y_0 \n",
    "\\end{align*}\n",
    "\n",
    "Considerando la parte real de $\\lambda$ negativa y $h$ positivo, para recrear la solución se necesita que $\\left|1+\\lambda h \\right| <1$. Este dominio, se denomina la región de estabilidad del método. \n",
    "\n",
    "Del mismo modo, para los demás métodos tenemos:\n",
    "\n",
    "* RK2:\n",
    "$$ \\left|1+\\lambda h + \\dfrac{(\\lambda h)^2}{2!} \\right| <1 $$\n",
    "\n",
    "* RK4:\n",
    "$$ \\left| 1+\\lambda h + \\dfrac{(\\lambda h)^2}{2!} + \\dfrac{(\\lambda h)^3}{3!} + \\dfrac{(\\lambda h)^4}{4!} \\right| <1 $$"
   ]
  },
  {
   "cell_type": "code",
   "execution_count": 5,
   "metadata": {},
   "outputs": [
    {
     "data": {
      "image/png": "[encoded data removed]",
      "text/plain": [
       "<Figure size 432x288 with 1 Axes>"
      ]
     },
     "metadata": {
      "needs_background": "light"
     },
     "output_type": "display_data"
    }
   ],
   "source": [
    "def zplot2(z, ax=plt.gca(), lw=1.5, line_color='k'):\n",
    "    ax.plot(np.real(z), np.imag(z), line_color, lw=lw)\n",
    "def runge_kutta_stability_regions():\n",
    "    z = np.exp(1j * np.pi * np.arange(201)/100.)\n",
    "    r = z-1\n",
    "    d = 1-1./z;\n",
    "    # Order 1\n",
    "    W1, W2, W3, W4 = [0], [0], [0], [0]\n",
    "    for zi in z[1:]:\n",
    "        W1.append( W1[-1]-(1.+W1[-1]-zi) )\n",
    "    for zi in z[1:]:\n",
    "        W2.append( W2[-1]-(1+W2[-1]+.5*W2[-1]**2-zi**2)/(1+W2[-1]) )\n",
    "    for zi in z[1:]:\n",
    "        num = (1+W4[-1]+.5*W4[-1]**2+W4[-1]**3/6+W4[-1]**4/24-zi**4)\n",
    "        den = (1+W4[-1]+W4[-1]**2/2+W4[-1]**3/6.)\n",
    "        W4.append( W4[-1] - num/den )\n",
    "    return W1, W2, W4\n",
    "W1,W2,W4=runge_kutta_stability_regions()"
   ]
  },
  {
   "cell_type": "code",
   "execution_count": 6,
   "metadata": {},
   "outputs": [
    {
     "data": {
      "text/plain": [
       "Text(0.5, 1.0, 'Stability Regions of some Runge-Kutta ODE solvers')"
      ]
     },
     "execution_count": 6,
     "metadata": {},
     "output_type": "execute_result"
    },
    {
     "data": {
      "image/png": "[encoded data removed]",
      "text/plain": [
       "<Figure size 540x540 with 1 Axes>"
      ]
     },
     "metadata": {
      "needs_background": "light"
     },
     "output_type": "display_data"
    }
   ],
   "source": [
    "fig = plt.figure(figsize=(L/2,L/2))\n",
    "ax=fig.gca()\n",
    "zplot2(W1,ax,line_color='r')\n",
    "zplot2(W2,ax,line_color='g')\n",
    "zplot2(W4,ax,line_color='b')\n",
    "ax.axis(\"equal\")\n",
    "ax.axis([-5, 2, -3.5, 3.5])\n",
    "ax.grid(\"on\")\n",
    "ax.set_title(\"Stability Regions of some Runge-Kutta ODE solvers\")"
   ]
  },
  {
   "cell_type": "markdown",
   "metadata": {},
   "source": [
    "### Entonces, ¿cómo utilizamos la región de estabilidad?\n",
    "\n",
    "Lo importante de este análisis es notar que no podemos definir $h$ a priori. Dados un método y $\\lambda$ conocidos, debemos estudiar la región de estabilidad para determinar que valor de $h$ utilizar."
   ]
  },
  {
   "cell_type": "code",
   "execution_count": 7,
   "metadata": {},
   "outputs": [
    {
     "data": {
      "application/vnd.jupyter.widget-view+json": {
       "model_id": "473141c22622438e86fc6815bb94fcf4",
       "version_major": 2,
       "version_minor": 0
      },
      "text/plain": [
       "interactive(children=(FloatSlider(value=1.2, description='y0', max=5.0, min=-2.0), FloatSlider(value=0.5, desc…"
      ]
     },
     "metadata": {},
     "output_type": "display_data"
    },
    {
     "data": {
      "text/plain": [
       "<function __main__.plot_log_eq_stability_region(y0=1.2, h=0.5, T=10)>"
      ]
     },
     "execution_count": 7,
     "metadata": {},
     "output_type": "execute_result"
    }
   ],
   "source": [
    "def plot_log_eq_stability_region(y0=1.2, h=0.5, T=10):\n",
    "    # How did I get this? Why do I need it?\n",
    "    def my_f_1D_prime(y):\n",
    "        return np.array(1-2*y)\n",
    "\n",
    "    # Choosing which solver to use\n",
    "    solvers = ('euler','RK2','RK4')\n",
    "    solver = solvers[2]\n",
    "\n",
    "    t_times = np.arange(0, T+h, h)\n",
    "    y_output = np.zeros(t_times.size)\n",
    "    y_output[0] = y0\n",
    "\n",
    "    for i in range(1,t_times.size):\n",
    "        if solver=='euler':\n",
    "            y_output[i]=euler_ode(y_output[i-1],t_times[i-1],my_f_1D,h)\n",
    "            c1,c2,c3='b','k','k'\n",
    "        elif solver=='RK2':\n",
    "            y_output[i]=RK2_ode(y_output[i-1],t_times[i-1],my_f_1D,h)\n",
    "            c1,c2,c3='k','b','k'\n",
    "        else:\n",
    "            y_output[i]=RK4_ode(y_output[i-1],t_times[i-1],my_f_1D,h)\n",
    "            c1,c2,c3='k','k','b'\n",
    "\n",
    "    fig = plt.figure(figsize=(L,L))\n",
    "    ax1 = fig.add_subplot(221)\n",
    "    ax2 = fig.add_subplot(222)\n",
    "    ax3 = fig.add_subplot(223)\n",
    "\n",
    "    ax1.axis(\"equal\")\n",
    "    ax1.grid(True)\n",
    "    ax1.set_title(\"Numerical Approximation\")\n",
    "    ax1.axis([0, T, -0.5, 2])\n",
    "    ax1.plot(t_times,y_output,'-')\n",
    "    ax1.plot(t_times,y_output,'.k')\n",
    "\n",
    "    # The next code is to plot in logscale unstable numerical simulations\n",
    "    y_all=h*my_f_1D_prime(y_output)\n",
    "    y_pos=y_all>0\n",
    "    y_neg=np.logical_not(y_pos)\n",
    "    ax2.semilogy(t_times[y_pos],y_all[y_pos],'.r',ms=20)\n",
    "    ax2.semilogy(t_times[y_neg],-y_all[y_neg],'.b',ms=20)\n",
    "    ax2.grid(\"on\")\n",
    "    ax2.set_title(\"Numerical Approximation in log scale\")\n",
    "\n",
    "    zplot2(W1,ax3,line_color=c1)\n",
    "    zplot2(W2,ax3,line_color=c2)\n",
    "    zplot2(W4,ax3,line_color=c3)\n",
    "    k_lambdah=h*my_f_1D_prime(y_output)\n",
    "    ax3.plot(np.real(k_lambdah),np.imag(k_lambdah),'.r',ms=20)\n",
    "    ax3.axis(\"equal\")\n",
    "    ax3.axis([-5, 2, -3.5, 3.5])\n",
    "    ax3.grid(\"on\")\n",
    "    ax3.set_title(\"Stability Region and $k=\\lambda\\,h$\")\n",
    "\n",
    "#y0=1.2 # 1.2, 2.0, 4.0\n",
    "#h=0.5  # 0.5, 0.1\n",
    "#T=10\n",
    "interact(plot_log_eq_stability_region,y0=(-2,5,0.1),h=(0.01,1,0.1), T=(1,20,1))"
   ]
  },
  {
   "cell_type": "markdown",
   "metadata": {},
   "source": [
    "<div id='conver' />\n",
    "\n",
    "## Convergencia\n",
    "\n",
    "¡Esto es muy importante! Estudiémoslo... \n",
    "\n",
    "Para hablar de convergencia, tenemos que tener en cuenta el orden de cada método. En palabras simples y resumidas podemos decir lo siguiente:\n",
    "\n",
    "* Euler es un método de primer orden $O(h)$, por lo que si $h$ se reduce a la mitad, el error también lo hace.\n",
    "* RK2 es un método de segundo orden $O(h^2)$, por lo que si $h$ se reduce a la mitad, el error se reduce a la cuarta parte.\n",
    "* RK4 es un método de cuarto orden $O(h^4)$, por lo que si $h$ se reduce a la mitad, el error se reduce 16 veces.\n",
    "\n",
    "Para ver esto, consideremos el siguiente problema:\n",
    "\n",
    "\\begin{align*}\n",
    "\\dot{y}(t)&=-3\\,y(t)+6\\,t+5\\\\\n",
    "y(0)&=3\n",
    "\\end{align*}\n",
    "\n",
    "cuya solución es $y(t)=2e^{-3t}+2t+1$."
   ]
  },
  {
   "cell_type": "code",
   "execution_count": 8,
   "metadata": {},
   "outputs": [],
   "source": [
    "y0=3.0\n",
    "time_test=0.5\n",
    "def my_f(t,y):\n",
    "    return np.array(-3*y+6*t+5)\n",
    "y_sol = lambda t: 2.*np.exp(-3.*t)+2.*t+1"
   ]
  },
  {
   "cell_type": "code",
   "execution_count": 9,
   "metadata": {},
   "outputs": [
    {
     "data": {
      "text/plain": [
       "[<matplotlib.lines.Line2D at 0x7fa42c3f8f50>]"
      ]
     },
     "execution_count": 9,
     "metadata": {},
     "output_type": "execute_result"
    },
    {
     "data": {
      "image/png": "[encoded data removed]",
      "text/plain": [
       "<Figure size 540x540 with 1 Axes>"
      ]
     },
     "metadata": {
      "needs_background": "light"
     },
     "output_type": "display_data"
    }
   ],
   "source": [
    "fig = plt.figure(figsize=(L/2,L/2))\n",
    "fig.clf()\n",
    "ax = fig.gca()\n",
    "ax.axis(\"equal\")\n",
    "ax.grid(True)\n",
    "ax.set_title(\"Convergence Analysis\")\n",
    "\n",
    "h_list = np.logspace(-5,-1,5)\n",
    "for h in h_list:\n",
    "    t_times = np.arange(0, time_test+h, h)\n",
    "    y_output = np.zeros(t_times.size)\n",
    "    y_output[0] = y0\n",
    "    for i in range(1,t_times.size):\n",
    "        y_output[i]=euler_ode(y_output[i-1],t_times[i-1],my_f,h)        \n",
    "    plt.loglog(h,abs(y_output[-1]-y_sol(t_times[-1])),'b.',ms=20,label='Euler',alpha=.5)\n",
    "    y_output = np.zeros(t_times.size)\n",
    "    y_output[0] = y0\n",
    "    for i in range(1,t_times.size):\n",
    "        y_output[i]=RK2_ode(y_output[i-1],t_times[i-1],my_f,h)\n",
    "    plt.loglog(h,abs(y_output[-1]-y_sol(t_times[-1])),'rs',ms=20,label='RK2',alpha=.5)\n",
    "    y_output = np.zeros(t_times.size)\n",
    "    y_output[0] = y0\n",
    "    for i in range(1,t_times.size):\n",
    "        y_output[i]=RK4_ode(y_output[i-1],t_times[i-1],my_f,h)\n",
    "    plt.loglog(h,abs(y_output[-1]-y_sol(t_times[-1])),'gd',ms=20,label='RK4',alpha=.5)\n",
    "    if h==h_list[0]:\n",
    "        plt.legend(numpoints=1, loc=\"lower right\")\n",
    "plt.loglog(h_list,h_list,'k-')\n",
    "plt.loglog(h_list,np.power(h_list,2.),'k-')\n",
    "plt.loglog(h_list,np.power(h_list,4.),'k-')"
   ]
  },
  {
   "cell_type": "markdown",
   "metadata": {},
   "source": [
    "<div id='high' />\n",
    "\n",
    "# Problemas de segundo orden y más dimensiones"
   ]
  },
  {
   "cell_type": "markdown",
   "metadata": {},
   "source": [
    "¿Por qué debemos estudiar problemas de dimensiones más altas?\n",
    "\n",
    "¡Porque son geniales!"
   ]
  },
  {
   "cell_type": "markdown",
   "metadata": {},
   "source": [
    "### Van der pool"
   ]
  },
  {
   "cell_type": "markdown",
   "metadata": {},
   "source": [
    "El ocsilador Van der Pol es un oscilador no conservativo con amortiguamiento no lineal. Su evolución en el tiempo sigue una ecuación diferencial de segundo orden: \n",
    "\n",
    "$$\\ddot{y}-\\mu\\,(1-y^2)\\,\\dot{y} + y = 0$$ con $y(0)=2\\ $   y   $\\dot{y}(0)=0$\n",
    "\n",
    "$\\mu$ es un parámetro escalar que indica la no linealidad y la fuerza del amortiguamiento."
   ]
  },
  {
   "cell_type": "markdown",
   "metadata": {},
   "source": [
    "$y_1(t)=y(t)$ <br>\n",
    "$y_2(t)=\\dot{y}(t)$ <br> \n",
    "$\\dot{y}_1=\\dot{y} = y_2$ <br>\n",
    "$\\dot{y}_2=\\ddot{y} = \\mu (1-y^2) \\dot{y} - y = \\mu (1-y_1^2) y_2 - y_1$ <br> "
   ]
  },
  {
   "cell_type": "code",
   "execution_count": 10,
   "metadata": {},
   "outputs": [],
   "source": [
    "mu=10\n",
    "def my_vdp(t,y,mu=mu):\n",
    "    y1 = y[0]\n",
    "    y2 = y[1]\n",
    "    return np.array([y2, mu*(1-y1**2)*y2-y1])\n",
    "\n",
    "def my_vdp_eig_jacobian(t,y,mu=mu):\n",
    "    J=[[0,1],[-(2*mu*y[0]*y[1]+1), mu*(1-y[0]**2)]]\n",
    "    lambs,vs= LA.eig(J)\n",
    "    return lambs"
   ]
  },
  {
   "cell_type": "code",
   "execution_count": 11,
   "metadata": {},
   "outputs": [
    {
     "data": {
      "application/vnd.jupyter.widget-view+json": {
       "model_id": "9e46948b9c9f43c793ad7ee958e8986c",
       "version_major": 2,
       "version_minor": 0
      },
      "text/plain": [
       "interactive(children=(FloatSlider(value=2.0, description='y01', max=3.0, min=-3.0), FloatSlider(value=0.0, des…"
      ]
     },
     "metadata": {},
     "output_type": "display_data"
    },
    {
     "data": {
      "text/plain": [
       "<function __main__.plotting_vdp(y01=2, y02=0, h=0.01, T=200, solver='euler')>"
      ]
     },
     "execution_count": 11,
     "metadata": {},
     "output_type": "execute_result"
    }
   ],
   "source": [
    "def plotting_vdp(y01=2,y02=0,h=0.01,T=200,solver='euler'):\n",
    "    y0=np.array([y01, y02])\n",
    "    t_times = np.arange(0, T, h)\n",
    "    y_output = np.zeros([t_times.size,2])\n",
    "    y_output[0,:] = y0\n",
    "    for i in range(1,t_times.size):\n",
    "        #y_output[i,:]=euler_ode(y_output[i-1,:],t_times[i-1],my_vdp,h)\n",
    "        if solver=='euler':\n",
    "            y_output[i]=euler_ode(y_output[i-1],t_times[i-1],my_vdp,h)\n",
    "        elif solver=='RK2':\n",
    "            y_output[i]=RK2_ode(y_output[i-1],t_times[i-1],my_vdp,h)\n",
    "        else:\n",
    "            y_output[i]=RK4_ode(y_output[i-1],t_times[i-1],my_vdp,h)\n",
    "\n",
    "    fig = plt.figure(figsize=(L,L/2))\n",
    "    ax1 = fig.add_subplot(121)\n",
    "    ax2 = fig.add_subplot(122)\n",
    "    \n",
    "    ax1.grid(True)\n",
    "    ax1.set_title(\"Numerical Approximation\")\n",
    "    ax1.plot(t_times,y_output[:,0],'-')\n",
    "    ax1.set(xlabel='t', ylabel='$y_1$')\n",
    "    ax1.plot(t_times,y_output[:,1],'-r')\n",
    "\n",
    "    ax2.grid(True)\n",
    "    ax2.set_title(\"Phase Portrait\")\n",
    "    ax2.plot(y_output[:,0],y_output[:,1],'-')\n",
    "    ax2.set(xlabel='$y=y_1$', ylabel='$\\dot{y}=y_2$')\n",
    "\n",
    "interact(plotting_vdp,y01=(-3,3,0.1),y02=(-3,3,0.1),h=(0.001,1,0.01),T=(10,200,10),solver=['euler','RK2','RK4'])"
   ]
  },
  {
   "cell_type": "markdown",
   "metadata": {},
   "source": [
    "### ¿Qué hay acerca de la región de estabilidad en sistemas dinámicos de EDO's?"
   ]
  },
  {
   "cell_type": "code",
   "execution_count": 12,
   "metadata": {
    "scrolled": false
   },
   "outputs": [
    {
     "data": {
      "application/vnd.jupyter.widget-view+json": {
       "model_id": "70f21161bdf24bb9bdf0b75e4b90d0d3",
       "version_major": 2,
       "version_minor": 0
      },
      "text/plain": [
       "interactive(children=(FloatSlider(value=2.0, description='y01', max=3.0, min=-3.0), FloatSlider(value=-3.0, de…"
      ]
     },
     "metadata": {},
     "output_type": "display_data"
    },
    {
     "data": {
      "text/plain": [
       "<function __main__.plotting_vpd_as_system(y01=2, y02=0, h=0.02, T=40, solver='euler')>"
      ]
     },
     "execution_count": 12,
     "metadata": {},
     "output_type": "execute_result"
    }
   ],
   "source": [
    "def plotting_vpd_as_system(y01=2,y02=0,h=0.02,T=40,solver='euler'):\n",
    "    t_times = np.arange(0, T+h, h)\n",
    "    y_output = np.zeros([2,t_times.size])\n",
    "    y_output[:,0] = y0\n",
    "\n",
    "    for i in range(1,t_times.size):\n",
    "        if solver=='euler':\n",
    "            y_output[:,i]=euler_ode(y_output[:,i-1],t_times[i-1],my_vdp,h)\n",
    "            c1='b'\n",
    "            c2='k'\n",
    "            c3='k'\n",
    "        elif solver=='RK2':\n",
    "            y_output[:,i]=RK2_ode(y_output[:,i-1],t_times[i-1],my_vdp,h)\n",
    "            c1='k'\n",
    "            c2='b'\n",
    "            c3='k'\n",
    "        else:\n",
    "            y_output[:,i]=RK4_ode(y_output[:,i-1],t_times[i-1],my_vdp,h)\n",
    "            c1='k'\n",
    "            c2='k'\n",
    "            c3='b'\n",
    "    \n",
    "    fig = plt.figure(figsize=(L,L))\n",
    "    ax1 = fig.add_subplot(221)\n",
    "    ax2 = fig.add_subplot(222)\n",
    "    ax3 = fig.add_subplot(223)\n",
    "    \n",
    "    ax1.axis('equal')\n",
    "    ax1.grid(True)\n",
    "    ax1.set_title(\"Numerical Approximation\")\n",
    "    ax1.axis([0, T, -0.5, 2])\n",
    "    ax1.plot(t_times,y_output[0,:],'-')\n",
    "    ax1.plot(t_times,y_output[1,:],'r-')\n",
    "\n",
    "    zplot2(W1,ax2,line_color=c1)\n",
    "    zplot2(W2,ax2,line_color=c2)\n",
    "    zplot2(W4,ax2,line_color=c3)\n",
    "    for i in range(1,t_times.size):\n",
    "        k_lambdah=h*my_vdp_eig_jacobian(t_times[i],y_output[:,i])\n",
    "        ax2.plot(np.real(k_lambdah[0]),np.imag(k_lambdah[0]),'.r',ms=10,alpha=.4)\n",
    "        ax2.plot(np.real(k_lambdah[1]),np.imag(k_lambdah[1]),'sm',ms=10,alpha=.4)\n",
    "    ax2.axis('equal')\n",
    "    ax2.axis([-5, 2, -3.5, 3.5])\n",
    "    ax2.grid('on')\n",
    "    \n",
    "    ax3.grid(True)\n",
    "    ax3.set_title(\"Phase Portrait\")\n",
    "    ax3.plot(y_output[0,:],y_output[1,:],'-')\n",
    "    ax3.set(xlabel='$y=y_1$', ylabel='$\\dot{y}=y_2$')\n",
    "\n",
    "interact(plotting_vpd_as_system,y01=(-3,3,0.1),y02=(-3,-3,0.1),h=(0.01,1,0.01),T=(10,200,10),solver=['euler','RK2','RK4'])"
   ]
  },
  {
   "cell_type": "markdown",
   "metadata": {},
   "source": [
    "### Modelo Lotka-Volterra (ecuaciones predador-presa), es decir, lobos comiendo conejos y conejos escondiendo y comiendo pasto infinito."
   ]
  },
  {
   "cell_type": "markdown",
   "metadata": {},
   "source": [
    "Se definen $y_1(t)$ como el número de conejos en el tiempo $t$ y $y_2(t)$ como el número de lobos en el tiempo $t$. \n",
    "Todo esto está pasando en una isla, aunque estamos considerando la presencia de pasto infinito. Entonces, si no hay lobos, obtenemos $\\dot{y1}(t)=y_1(t)$, en otras palabras, el número de conejos crece exponencialmente. \n",
    "Ahora, si no hubiesen conejos, obtenemos $\\dot{y_2}(t)=-y_2(t)$, debido a que la población de lobos decae exponencialmente. Pero, ¿qué pasa si tenemos ambas especies?\n",
    "\n",
    "\\begin{align*}\n",
    "\\dot{y_1}(t)&=(1-y_2(t)/\\mu_2)\\,y_1(t)\\\\\n",
    "\\dot{y_2}(t)&=-(1-y_1(t)/\\mu_1)\\,y_2(t)\\\\\n",
    "y_1(0)&=400\\\\\n",
    "y_2(0)&=100\n",
    "\\end{align*}\n",
    "\n",
    "donde $\\mu_1$ y $\\mu_2$ son constantes de normalización."
   ]
  },
  {
   "cell_type": "code",
   "execution_count": 13,
   "metadata": {},
   "outputs": [],
   "source": [
    "mu1=300\n",
    "mu2=200\n",
    "def f_predprey(t,y,mu1=mu1,mu2=mu2):\n",
    "    y1 = y[0]\n",
    "    y2 = y[1]\n",
    "    return np.array([(1-y2/mu2)*y1, -(1-y1/mu1)*y2])\n",
    "\n",
    "def f_predprey_jacobian(t,y,mu1=mu1,mu2=mu2):\n",
    "    J=[[1-y[1]/mu2,-y[0]/mu2],[y[1]/mu1, -(1-y[0]/mu1)]]\n",
    "    lambs,vs= LA.eig(J)\n",
    "    return lambs"
   ]
  },
  {
   "cell_type": "code",
   "execution_count": 14,
   "metadata": {},
   "outputs": [
    {
     "data": {
      "application/vnd.jupyter.widget-view+json": {
       "model_id": "47e6029695c2449e934759a5bcd92de4",
       "version_major": 2,
       "version_minor": 0
      },
      "text/plain": [
       "interactive(children=(IntSlider(value=70, description='y01', max=1000, step=10), IntSlider(value=100, descript…"
      ]
     },
     "metadata": {},
     "output_type": "display_data"
    },
    {
     "data": {
      "text/plain": [
       "<function __main__.plotting_predprey(y01=70, y02=100, h=0.03, T=30, solver='euler')>"
      ]
     },
     "execution_count": 14,
     "metadata": {},
     "output_type": "execute_result"
    }
   ],
   "source": [
    "y0=[10, 100]\n",
    "h=0.03\n",
    "T=30\n",
    "\n",
    "# Choosing which solver to use\n",
    "solvers = ('euler','RK2','RK4')\n",
    "solver = solvers[0]\n",
    "\n",
    "\n",
    "\n",
    "def plotting_predprey(y01=70,y02=100,h=0.03,T=30,solver='euler'):\n",
    "    t_times = np.arange(0, T+h, h)\n",
    "    y_output = np.zeros([2,t_times.size])\n",
    "    y_output[:,0] = y0\n",
    "    y_output[0,0] = y01\n",
    "    y_output[1,0] = y02\n",
    "\n",
    "    for i in range(1,t_times.size):\n",
    "        if solver=='euler':\n",
    "            y_output[:,i]=euler_ode(y_output[:,i-1],t_times[i-1],f_predprey,h)\n",
    "            c1='b'\n",
    "            c2='k'\n",
    "            c3='k'\n",
    "        elif solver=='RK2':\n",
    "            y_output[:,i]=RK2_ode(y_output[:,i-1],t_times[i-1],f_predprey,h)\n",
    "            c1='k'\n",
    "            c2='b'\n",
    "            c3='k'\n",
    "        else:\n",
    "            y_output[:,i]=RK4_ode(y_output[:,i-1],t_times[i-1],f_predprey,h)\n",
    "            c1='k'\n",
    "            c2='k'\n",
    "            c3='b'\n",
    "    \n",
    "    fig = plt.figure(figsize=(L,L))\n",
    "    ax1 = fig.add_subplot(221)\n",
    "    ax2 = fig.add_subplot(222)\n",
    "    ax3 = fig.add_subplot(223)\n",
    "    \n",
    "    ax1.grid(True)\n",
    "    ax1.set_title('Numerical Approximation')\n",
    "    ax1.plot(t_times,y_output[0,:],'-')\n",
    "    ax1.plot(t_times,y_output[1,:],'r-')\n",
    "    ax1.axis([0, T, 0, 600])\n",
    "\n",
    "    zplot2(W1,ax2,line_color=c1)\n",
    "    zplot2(W2,ax2,line_color=c2)\n",
    "    zplot2(W4,ax2,line_color=c3)\n",
    "    for i in range(1,t_times.size):\n",
    "        k_lambdah=h*my_vdp_eig_jacobian(t_times[i],y_output[:,i])\n",
    "        ax2.plot(np.real(k_lambdah[0]),np.imag(k_lambdah[0]),'.r',ms=10,alpha=.4)\n",
    "        ax2.plot(np.real(k_lambdah[1]),np.imag(k_lambdah[1]),'sm',ms=10,alpha=.4)\n",
    "    ax2.axis('equal')\n",
    "    ax2.axis([-5, 2, -3.5, 3.5])\n",
    "    ax2.grid('on')\n",
    "    \n",
    "    ax3.grid(True)\n",
    "    ax3.set_title('Phase Portrait')\n",
    "    ax3.plot(y_output[0,:],y_output[1,:],'-')\n",
    "    ax3.set(xlabel='$y_1$', ylabel='$y_2$')\n",
    "    ax3.axis([0, 800, 0, 600])\n",
    "\n",
    "interact(plotting_predprey,y01=(0,1000,10),y02=(0,1000,10),h=(0.01,1,0.01),T=(10,200,10),solver=['euler','RK2','RK4'])"
   ]
  },
  {
   "cell_type": "code",
   "execution_count": 15,
   "metadata": {},
   "outputs": [
    {
     "data": {
      "application/vnd.jupyter.widget-view+json": {
       "model_id": "d0b6dc4eb47548da92a6bd409b28d2e9",
       "version_major": 2,
       "version_minor": 0
      },
      "text/plain": [
       "interactive(children=(FloatSlider(value=1.0, description='y01', max=2.0, min=-2.0), FloatSlider(value=0.0, des…"
      ]
     },
     "metadata": {},
     "output_type": "display_data"
    },
    {
     "data": {
      "text/plain": [
       "<function __main__.plotting_f_trig(y01=1, y02=0, h=0.2, T=100, solver='euler')>"
      ]
     },
     "execution_count": 15,
     "metadata": {},
     "output_type": "execute_result"
    }
   ],
   "source": [
    "def f_trig(t,y):\n",
    "    y1 = y[0]\n",
    "    y2 = y[1]\n",
    "    return np.array([y2, -y1])\n",
    "\n",
    "def f_trig_jacobian(t,y):\n",
    "    #J=[[0,1],[-1, 0]]\n",
    "    #lambs,vs= LA.eig(J)\n",
    "    lambs=np.array([0.+1.j, 0.-1.j])\n",
    "    return lambs\n",
    "\n",
    "def plotting_f_trig(y01=1,y02=0,h=0.2,T=100,solver='euler'):\n",
    "\n",
    "    t_times = np.arange(0, T+h, h)\n",
    "    y_output = np.zeros([2,t_times.size])\n",
    "    y_output[:,0] = y0\n",
    "\n",
    "    for i in range(1,t_times.size):\n",
    "        if solver=='euler':\n",
    "            y_output[:,i]=euler_ode(y_output[:,i-1],t_times[i-1],f_trig,h)\n",
    "            c1='b'\n",
    "            c2='k'\n",
    "            c3='k'\n",
    "        elif solver=='RK2':\n",
    "            y_output[:,i]=RK2_ode(y_output[:,i-1],t_times[i-1],f_trig,h)\n",
    "            c1='k'\n",
    "            c2='b'\n",
    "            c3='k'\n",
    "        else:\n",
    "            y_output[:,i]=RK4_ode(y_output[:,i-1],t_times[i-1],f_trig,h)\n",
    "            c1='k'\n",
    "            c2='k'\n",
    "            c3='b'\n",
    "    fig = plt.figure(figsize=(L,L))\n",
    "    ax1 = fig.add_subplot(221)\n",
    "    ax2 = fig.add_subplot(222)\n",
    "    ax3 = fig.add_subplot(223)\n",
    "    \n",
    "    ax1.grid(True)\n",
    "    ax1.set_title('Numerical Approximation')\n",
    "    ax1.plot(t_times,y_output[0,:],'-')\n",
    "    ax1.plot(t_times,y_output[1,:],'r-')\n",
    "\n",
    "    zplot2(W1,ax2,line_color=c1)\n",
    "    zplot2(W2,ax2,line_color=c2)\n",
    "    zplot2(W4,ax2,line_color=c3)\n",
    "    for i in range(1,t_times.size):\n",
    "        k_lambdah=h*f_trig_jacobian(t_times[i],y_output[:,i])\n",
    "        ax2.plot(np.real(k_lambdah[0]),np.imag(k_lambdah[0]),'.r',ms=10,alpha=.4)\n",
    "        ax2.plot(np.real(k_lambdah[1]),np.imag(k_lambdah[1]),'sm',ms=10,alpha=.4)\n",
    "    ax2.axis('equal')\n",
    "    ax2.axis([-5, 2, -3.5, 3.5])\n",
    "    ax2.grid('on')\n",
    "    \n",
    "    ax3.grid(True)\n",
    "    ax3.set_title('Phase Portrait')\n",
    "    ax3.plot(y_output[0,:],y_output[1,:],'-')\n",
    "    ax3.set(xlabel='$y_1$', ylabel='$y_2$')\n",
    "\n",
    "\n",
    "interact(plotting_f_trig,y01=(-2,2,0.1),y02=(-2,2,0.1),h=(0.01,1,0.01),T=(10,200,10),solver=['euler','RK2','RK4'])"
   ]
  },
  {
   "cell_type": "code",
   "execution_count": 16,
   "metadata": {},
   "outputs": [
    {
     "data": {
      "application/vnd.jupyter.widget-view+json": {
       "model_id": "5bfb87ed881c4da1ad0f07e4be503b12",
       "version_major": 2,
       "version_minor": 0
      },
      "text/plain": [
       "interactive(children=(FloatSlider(value=1.0, description='y0', max=2.0, min=-2.0), FloatSlider(value=0.1, desc…"
      ]
     },
     "metadata": {},
     "output_type": "display_data"
    },
    {
     "data": {
      "text/plain": [
       "<function __main__.plotting_f_exp(y0=1, h=0.1, T=10, solver='euler')>"
      ]
     },
     "execution_count": 16,
     "metadata": {},
     "output_type": "execute_result"
    }
   ],
   "source": [
    "def f_exp(t,y):\n",
    "    y1 = y[0]\n",
    "    return np.array([-y1])\n",
    "def f_exp_jac(t,y):\n",
    "    return -1\n",
    "\n",
    "def plotting_f_exp(y0=1,h=0.1,T=10,solver='euler'):\n",
    "\n",
    "    t_times = np.arange(0, T+h, h)\n",
    "    y_output = np.zeros([2,t_times.size])\n",
    "    y_output[:,0] = y0\n",
    "\n",
    "    for i in range(1,t_times.size):\n",
    "        if solver=='euler':\n",
    "            y_output[:,i]=euler_ode(y_output[:,i-1],t_times[i-1],f_exp,h)\n",
    "            c1='b'\n",
    "            c2='k'\n",
    "            c3='k'\n",
    "        elif solver=='RK2':\n",
    "            y_output[:,i]=RK2_ode(y_output[:,i-1],t_times[i-1],f_exp,h)\n",
    "            c1='k'\n",
    "            c2='b'\n",
    "            c3='k'\n",
    "        else:\n",
    "            y_output[:,i]=RK4_ode(y_output[:,i-1],t_times[i-1],f_exp,h)\n",
    "            c1='k'\n",
    "            c2='k'\n",
    "            c3='b'\n",
    "    \n",
    "    fig = plt.figure(figsize=(L,L/2))\n",
    "    ax1 = fig.add_subplot(121)\n",
    "    ax2 = fig.add_subplot(122)\n",
    "    \n",
    "    ax1.grid(True)\n",
    "    ax1.set_title('Numerical Approximation')\n",
    "    ax1.plot(t_times,y_output[0,:],'.k')\n",
    "    ax1.plot(t_times,y_output[0,:],'-',alpha=0.5)\n",
    "    ax1.axis([0, T, -2, 2])\n",
    "\n",
    "    zplot2(W1,ax2,line_color=c1)\n",
    "    zplot2(W2,ax2,line_color=c2)\n",
    "    zplot2(W4,ax2,line_color=c3)\n",
    "    for i in range(1,t_times.size):\n",
    "        k_lambdah=h*f_exp_jac(t_times[i],y_output[:,i])\n",
    "        ax2.plot(np.real(k_lambdah),np.imag(k_lambdah),'.r',ms=10,alpha=.4)\n",
    "    ax2.axis('equal')\n",
    "    ax2.axis([-5, 2, -3.5, 3.5])\n",
    "    ax2.grid('on')\n",
    "\n",
    "interact(plotting_f_exp,y0=(-2,2,0.1),h=(0.01,10,0.01),T=(1,20,1),solver=['euler','RK2','RK4'])"
   ]
  },
  {
   "cell_type": "markdown",
   "metadata": {},
   "source": [
    "<div id='BVP' />\n",
    "\n",
    "# Problemas de Valor de Frontera"
   ]
  },
  {
   "cell_type": "markdown",
   "metadata": {},
   "source": [
    "Un problema de valor de frontera (BVP) corresponde a una ecuación diferencial ordinaria de la forma:\n",
    "$$ y''(x) = f(x,y(x),y'(x)) $$\n",
    "sujeta a condiciones de borde:\n",
    "$$ y(a) = y_a $$\n",
    "$$ y(b) = y_b $$\n",
    "Intentemos resolver $y''(x)=4y(x)$, con $y(0)=y_0$ y $y(1)=y_n$."
   ]
  },
  {
   "cell_type": "markdown",
   "metadata": {},
   "source": [
    "<div id='DD' />\n",
    "\n",
    "## Diferencias Finitas\n",
    "\n",
    "Este método consiste en aproximar las derivadas de $y(x)$ mediante diferencias finitas, para luego resolver un sistema de ecuaciones lineales o no lineal.\n",
    "\n",
    "Dentro de las más conocidas están:\n",
    "\n",
    "* Forward Difference:\n",
    "$$ y'(x) = \\dfrac{y(x+h) - y(x)}{h} + O(h)$$\n",
    "\n",
    "* Backward Difference:\n",
    "$$ y'(x) = \\dfrac{y(x) - y(x-h)}{h} + O(h)$$\n",
    "\n",
    "* Central Difference:\n",
    "$$ y'(x) = \\dfrac{y(x+h) - y(x-h)}{2h} + O(h^2)$$\n",
    "\n",
    "Y para aproximar la segunda derivada utilizamos:\n",
    "\\begin{align*}\n",
    "y''(x) &= \\dfrac{\\text{Forward Difference } - \\text{ Backward Difference}}{h} + O(h^2) \\\\\n",
    "y''(x) &= \\dfrac{\\dfrac{y(x+h) - y(x)}{h} - \\dfrac{y(x) - y(x-h)}{h}}{h} + O(h^2) \\\\\n",
    "y''(x) &= \\dfrac{y(x+h) - 2y(x) + y(x-h)}{h^2} + O(h^2) \\\\\n",
    "\\end{align*}"
   ]
  },
  {
   "cell_type": "code",
   "execution_count": 17,
   "metadata": {},
   "outputs": [
    {
     "data": {
      "application/vnd.jupyter.widget-view+json": {
       "model_id": "6cce402e32804bb8b2776823b4059984",
       "version_major": 2,
       "version_minor": 0
      },
      "text/plain": [
       "interactive(children=(IntSlider(value=4, description='I', max=25, min=3), FloatSlider(value=1.0, description='…"
      ]
     },
     "metadata": {},
     "output_type": "display_data"
    },
    {
     "data": {
      "text/plain": [
       "<function __main__.plot_solution_finite_difference_eq(I=4, y0=1, yn=3)>"
      ]
     },
     "execution_count": 17,
     "metadata": {},
     "output_type": "execute_result"
    }
   ],
   "source": [
    "def solve_finite_difference_eq(I=4,y0=1,yn=3):\n",
    "    # Spatial discretization, 'I' represents the number of intervals to be used.\n",
    "    h=(1.-0)/I\n",
    "    ## Boundarty conditions\n",
    "    #y0=1.\n",
    "    #y1=3.\n",
    "\n",
    "    # Building Finite Difference Discretization\n",
    "    deltas=-(2.+4.*(h**2.))\n",
    "    A=toeplitz(np.append(np.array([deltas, 1.]), np.zeros(I-3)))\n",
    "    # Building RHS\n",
    "    b=np.append(-y0, np.zeros(I-3))\n",
    "    b=np.append(b,-yn)\n",
    "    # Solving the linear system of equations\n",
    "    w=np.linalg.solve(A, b)\n",
    "    # Adding back the boundary conditions into the solution\n",
    "    w=np.append([y0], w)\n",
    "    w=np.append(w,[yn])\n",
    "    t_FD = np.linspace(0,1,I+1)\n",
    "    w_FD = w \n",
    "    return t_FD, w_FD, A\n",
    "\n",
    "def plot_solution_finite_difference_eq(I=4,y0=1,yn=3):\n",
    "    \n",
    "    # Solving by Finite Difference\n",
    "    t_FD, w_FD, A = solve_finite_difference_eq(I,y0,yn)\n",
    "    \n",
    "    # Plotting\n",
    "    fig = plt.figure(figsize=(L,L/2))\n",
    "    ax1 = fig.add_subplot(121)\n",
    "    ax2 = fig.add_subplot(122)\n",
    "    \n",
    "    # Plotting the discrete solution\n",
    "    ax1.grid(True)\n",
    "    ax1.set_title(\"FD\")\n",
    "    ax1.plot(t_FD,w_FD,'.',ms=20)\n",
    "    #ax1.axis([0, 1, 0, 3])\n",
    "    ax1.grid(\"on\")\n",
    "    \n",
    "    # Plotting the pattern and coefficients of the tri-diagonal matrix\n",
    "    plot_matrices_with_values(ax2,A)\n",
    "    \n",
    "interact(plot_solution_finite_difference_eq,I=(3,25,1),y0=(-5,5,0.1),yn=(-5,5,0.1))"
   ]
  },
  {
   "cell_type": "markdown",
   "metadata": {},
   "source": [
    "<div id='MD' />\n",
    "\n",
    "## Método de Disparo\n",
    "\n",
    "Este método consiste en tratar el BVP como si fuera un IVP mediante las siguientes consideraciones:\n",
    "\n",
    "* Teniendo el BVP $ y''(x) = f(x,y(x),y'(x)) $,con $ y(a) = y_a $ y $ y(b) = y_b $.\n",
    "* Consideremos $x \\rightarrow t$ y $ \\ddot{y}(t) = f(t,y(t),\\dot{y}(t)) $,con $ y(t_0) = y_0 $ y $ \\dot{y}(t_0) = \\alpha $.\n",
    "* Y definamos la función $F(\\alpha) = y(t_n,\\alpha) - y_b$.\n",
    "\n",
    "Entonces solo basta con encontrar una raíz de $F(\\alpha)$ para que la solución de este IVP corresponda a la solución del BVP que en realidad estamos resolviendo."
   ]
  },
  {
   "cell_type": "code",
   "execution_count": 22,
   "metadata": {},
   "outputs": [],
   "source": [
    "def my_f(t,y):\n",
    "    return np.array([y[1],4*y[0]])"
   ]
  },
  {
   "cell_type": "code",
   "execution_count": 23,
   "metadata": {},
   "outputs": [
    {
     "data": {
      "application/vnd.jupyter.widget-view+json": {
       "model_id": "660cc2511150481eac5ca86ea1e53a3d",
       "version_major": 2,
       "version_minor": 0
      },
      "text/plain": [
       "interactive(children=(FloatSlider(value=-1.0, description='alpha', max=2.0, min=-2.0), IntSlider(value=50, des…"
      ]
     },
     "metadata": {},
     "output_type": "display_data"
    },
    {
     "data": {
      "text/plain": [
       "<function __main__.shooting_method_101(alpha=-1, N=50, I=4, y0=1, yn=3)>"
      ]
     },
     "execution_count": 23,
     "metadata": {},
     "output_type": "execute_result"
    }
   ],
   "source": [
    "alpha=-1.\n",
    "N=100\n",
    "\n",
    "def shooting_method_101(alpha=-1, N=50, I=4, y0=1, yn=3):\n",
    "    T=1.0\n",
    "    h=T/(N-1.)\n",
    "    t_times = np.linspace(0,T,num=N)\n",
    "    y_output = np.zeros([t_times.size,2])\n",
    "    y_output[0,:] = [y0,alpha]\n",
    "    for i in range(1,t_times.size):\n",
    "        y_output[i,:]=euler_ode(y_output[i-1,:],t_times[i-1],my_f,h)\n",
    "    \n",
    "    fig = plt.figure(figsize=(L/2,L/2))\n",
    "    ax = fig.gca()\n",
    "    plt.grid(True)\n",
    "    plt.title(\"Numerical Approximation\")\n",
    "    plt.plot(t_times,y_output[:,0],'rd',ms=12,alpha=0.5,label='y: actual solution')\n",
    "    plt.plot(t_times,y_output[:,1],'m.',ms=12,alpha=0.5,label='$\\dot{y}$: derivative of solution')\n",
    "    \n",
    "    # Solving by Finite Difference\n",
    "    t_FD, w_FD, _ = solve_finite_difference_eq(I,y0,yn)\n",
    "    plt.plot(t_FD,w_FD,'.',ms=20,alpha=1)\n",
    "    \n",
    "    # Plotting distance to be reduced, so the missing initial condition is found.\n",
    "    plt.plot([t_FD[-1],t_times[-1]],[w_FD[-1],y_output[-1,0]],'g-',label='Difference to be reduced')\n",
    "    \n",
    "    plt.plot(0,1,'.k',ms=12,label='Left Boundary Condition')\n",
    "    plt.plot(1,3,'.k',ms=12,label='Right Boundary Condition')\n",
    "    \n",
    "    plt.legend()\n",
    "\n",
    "interact(shooting_method_101,alpha=(-2,2,0.1),N=(10,200,10),I=(3,20), y0=(-5,5,0.1),yn=(-5,5,0.1))"
   ]
  },
  {
   "cell_type": "markdown",
   "metadata": {},
   "source": [
    "### Ahora hagámoslo automáticamente"
   ]
  },
  {
   "cell_type": "code",
   "execution_count": 35,
   "metadata": {},
   "outputs": [],
   "source": [
    "N_grid = 100\n",
    "def func(alpha):\n",
    "    yn=3\n",
    "    t_times,y_output = my_solver(N_grid,alpha)\n",
    "    return y_output[-1,0]-yn\n",
    "\n",
    "def my_solver(N,alpha):\n",
    "    y0=1.\n",
    "    T=1.0\n",
    "    h=T/(N-1.)\n",
    "    t_times = np.linspace(0,T,num=N)\n",
    "    y_output = np.zeros([t_times.size,2])\n",
    "    y_output[0,:] = [y0,alpha]\n",
    "    for i in range(1,t_times.size):\n",
    "        y_output[i,:]=RK4_ode(y_output[i-1,:],t_times[i-1],my_f,h)\n",
    "    return t_times,y_output"
   ]
  },
  {
   "cell_type": "code",
   "execution_count": 36,
   "metadata": {},
   "outputs": [
    {
     "data": {
      "text/plain": [
       "[<matplotlib.lines.Line2D at 0x7fa42c80add0>]"
      ]
     },
     "execution_count": 36,
     "metadata": {},
     "output_type": "execute_result"
    },
    {
     "data": {
      "image/png": "[encoded data removed]",
      "text/plain": [
       "<Figure size 540x540 with 1 Axes>"
      ]
     },
     "metadata": {
      "needs_background": "light"
     },
     "output_type": "display_data"
    }
   ],
   "source": [
    "alpha = root(func, 0.)\n",
    "\n",
    "t_times,y_output = my_solver(N_grid,alpha.x)\n",
    "\n",
    "fig = plt.figure(figsize=(L/2,L/2))\n",
    "#ax = fig.gca()\n",
    "plt.grid(True)\n",
    "plt.title(\"Numerical Approximation\")\n",
    "plt.plot(t_times,y_output[:,0],'rd',ms=20,alpha=0.5)\n",
    "t_FD, w_FD, _ = solve_finite_difference_eq()\n",
    "plt.plot(t_FD,w_FD,'.',ms=20,alpha=1)"
   ]
  },
  {
   "cell_type": "code",
   "execution_count": 26,
   "metadata": {},
   "outputs": [
    {
     "data": {
      "text/plain": [
       "    fjac: array([[-1.]])\n",
       "     fun: 0.0\n",
       " message: 'The solution converged.'\n",
       "    nfev: 5\n",
       "     qtf: array([-1.33226763e-15])\n",
       "       r: array([-1.81343016])\n",
       "  status: 1\n",
       " success: True\n",
       "       x: array([-0.42030605])"
      ]
     },
     "execution_count": 26,
     "metadata": {},
     "output_type": "execute_result"
    }
   ],
   "source": [
    "alpha"
   ]
  },
  {
   "cell_type": "code",
   "execution_count": 30,
   "metadata": {},
   "outputs": [
    {
     "data": {
      "image/png": "[encoded data removed]",
      "text/plain": [
       "<Figure size 432x288 with 1 Axes>"
      ]
     },
     "metadata": {
      "needs_background": "light"
     },
     "output_type": "display_data"
    }
   ],
   "source": [
    "N = 100\n",
    "alphas = np.linspace(-1,0,N)\n",
    "fa = []\n",
    "for a in alphas:\n",
    "    fa.append(func(a))\n",
    "faa = np.array(fa)\n",
    "plt.figure()\n",
    "plt.plot(alphas,faa)\n",
    "plt.grid(True)\n",
    "plt.plot([alpha.x],[0],'.k')\n",
    "plt.show()"
   ]
  },
  {
   "cell_type": "markdown",
   "metadata": {},
   "source": [
    "<div id='acknowledgements' />\n",
    "\n",
    "# Acknowledgements\n",
    "* _Material creado por profesor Claudio Torres_ (`ctorres@inf.utfsm.cl`) _y ayudantes: Alvaro Salinas y Martín \n",
    "Villanueva. DI UTFSM. Abril 2016._\n",
    "\n",
    "***\n",
    "### DISCLAIMER ###\n",
    "\n",
    "El presente notebook ha sido creado para el curso **ILI286 - Computación Científica 2**, del [Departamento de Informática](http://www.inf.utfsm.cl/), [Universidad Técnica Federico Santa María](http://www.utfsm.cl/). \n",
    "\n",
    "El material ha sido creado por Claudio Torres <ctorres@inf.utfsm.cl> y Sebastian Flores <sebastian.flores@usm.cl>, y es distribuido sin restricciones. En caso de encontrar un error, por favor no dude en contactarnos.\n",
    "\n",
    "[Update 2015] Se ha actualizado los notebooks a Python 3 e includio el \"magic\" \"%matplotlib inline\" antes de cargar matplotlib para que los gráficos se generen en el notebook. \n",
    "\n",
    "[Update 2016] (Álvaro) Modificaciones mayores al formato original. Agregado contexto: Introducción, Tabla de Contenidos, Explicaciones de cada método.\n",
    "\n",
    "[Update 2019] (C. Torres) Small changes. Fixing issue with title of sections and identation. Adding 'interact' to the logistic equation! Adding interact to everything, work in progress. All done, Enjoy!\n",
    "***"
   ]
  },
  {
   "cell_type": "code",
   "execution_count": null,
   "metadata": {},
   "outputs": [],
   "source": []
  }
 ],
 "metadata": {
  "anaconda-cloud": {},
  "kernelspec": {
   "display_name": "Python 3",
   "language": "python",
   "name": "python3"
  },
  "language_info": {
   "codemirror_mode": {
    "name": "ipython",
    "version": 3
   },
   "file_extension": ".py",
   "mimetype": "text/x-python",
   "name": "python",
   "nbconvert_exporter": "python",
   "pygments_lexer": "ipython3",
   "version": "3.7.3"
  }
 },
 "nbformat": 4,
 "nbformat_minor": 4
}
