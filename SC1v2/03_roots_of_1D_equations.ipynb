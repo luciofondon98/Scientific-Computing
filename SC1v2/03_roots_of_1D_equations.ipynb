{
 "cells": [
  {
   "cell_type": "markdown",
   "metadata": {
    "nbpresent": {
     "id": "0bf960ac-5485-453f-a7fa-b127626d0722"
    }
   },
   "source": [
    "## Table of Contents\n",
    "* [Introduction](#intro)\n",
    "* [Bisection Method](#bisection)\n",
    "* [Cobweb Plot](#cobweb)\n",
    "* [Fixed Point Iteration](#fpi)\n",
    "* [Newton Method](#nm)\n",
    "* [Wilkinson Polynomial](#wilkinson)\n",
    "* [Acknowledgements](#acknowledgements)"
   ]
  },
  {
   "cell_type": "code",
   "execution_count": 2,
   "metadata": {
    "nbpresent": {
     "id": "933f781f-471c-4576-bc44-cacb85f3d74e"
    }
   },
   "outputs": [],
   "source": [
    "import numpy as np\n",
    "import matplotlib.pyplot as plt\n",
    "import sympy as sym\n",
    "%matplotlib inline\n",
    "from ipywidgets import interact\n",
    "from ipywidgets import widgets\n",
    "sym.init_printing()\n",
    "from scipy import optimize"
   ]
  },
  {
   "cell_type": "markdown",
   "metadata": {
    "nbpresent": {
     "id": "b67d6f1e-9141-4fdb-a380-7143377bb257"
    }
   },
   "source": [
    "<div id='intro' />\n",
    "\n",
    "## Introduction\n",
    "\n",
    "Hello again! In this document we're going to learn how to find a 1D equation's solution using numerical methods. First, let's start with the definition of a root:\n",
    "\n",
    "<b>Definition</b>: The function $f(x)$ has a <b>root</b> in $x = r$ if $f(r) = 0$.\n",
    "\n",
    "An example: Let's say we want to solve the equation $x + \\log(x) = 3$. We can rearrange the equation: $x + \\log(x) - 3 = 0$. That way, to find its solution we can find the root of $f(x) = x + \\log(x) - 3$. Now let's study some numerical methods to solve these kinds of problems. "
   ]
  },
  {
   "cell_type": "markdown",
   "metadata": {
    "nbpresent": {
     "id": "6ad27f67-ce50-4034-8ad6-87fc8e891710"
    }
   },
   "source": [
    "Defining a function $f(x)$"
   ]
  },
  {
   "cell_type": "code",
   "execution_count": 1,
   "metadata": {
    "nbpresent": {
     "id": "303a1805-24d2-40c6-85f9-d0d40f2092e1"
    }
   },
   "outputs": [],
   "source": [
    "f = lambda x: x+np.log(x)-3"
   ]
  },
  {
   "cell_type": "markdown",
   "metadata": {
    "nbpresent": {
     "id": "1fbf0be0-90c4-413c-983f-e4d6ea6f76bc"
    }
   },
   "source": [
    "Finding $r$ using sympy"
   ]
  },
  {
   "cell_type": "code",
   "execution_count": 3,
   "metadata": {
    "nbpresent": {
     "id": "e91bbbf7-6c90-4f31-ae8c-55555844daa8"
    }
   },
   "outputs": [
    {
     "name": "stdout",
     "output_type": "stream",
     "text": [
      "2.20794003156932\n",
      "[LambertW(exp(3))]\n"
     ]
    }
   ],
   "source": [
    "y = sym.Symbol('y')\n",
    "fsym = lambda y: y+sym.log(y)-3\n",
    "r_all=sym.solve(sym.Eq(fsym(y), 0), y)\n",
    "r=r_all[0].evalf()\n",
    "print(r)\n",
    "print(r_all)"
   ]
  },
  {
   "cell_type": "code",
   "execution_count": 20,
   "metadata": {
    "nbpresent": {
     "id": "1e499efa-b348-449b-95da-6ae6f7d8bc13"
    }
   },
   "outputs": [
    {
     "data": {
      "application/vnd.jupyter.widget-view+json": {
       "model_id": "f7c99346571f434a80eda8ae1af0893c",
       "version_major": 2,
       "version_minor": 0
      },
      "text/plain": [
       "interactive(children=(FloatSlider(value=2.0, description='r', max=3.0, min=1e-05, step=0.001), Output()), _dom…"
      ]
     },
     "metadata": {},
     "output_type": "display_data"
    },
    {
     "data": {
      "text/plain": [
       "<function __main__.find_root_manually(r=2.0)>"
      ]
     },
     "execution_count": 20,
     "metadata": {},
     "output_type": "execute_result"
    }
   ],
   "source": [
    "def find_root_manually(r=2.0): \n",
    "    x = np.linspace(1,3,1000)\n",
    "    plt.figure(figsize=(8,8))\n",
    "    plt.plot(x,f(x),'b-')\n",
    "    plt.grid()\n",
    "    plt.ylabel('$f(x)$',fontsize=16)\n",
    "    plt.xlabel('$x$',fontsize=16)\n",
    "    plt.title('What is r such that $f(r)='+str(f(r))+'$? $r='+str(r)+'$',fontsize=16)\n",
    "    plt.plot(r,f(r),'k.',markersize=20)\n",
    "    plt.show()\n",
    "interact(find_root_manually,r=(1e-5,3,1e-3))"
   ]
  },
  {
   "cell_type": "markdown",
   "metadata": {
    "nbpresent": {
     "id": "0205cfe4-30cb-4064-a6bb-d6bb7ba0c4e4"
    }
   },
   "source": [
    "<div id='bisection' />\n",
    "\n",
    "## Bisection Method"
   ]
  },
  {
   "cell_type": "markdown",
   "metadata": {
    "nbpresent": {
     "id": "876cd550-d494-49e9-8009-7c7ff260fadf"
    }
   },
   "source": [
    "The bisection method finds the root of a function $f$, where $f$ is a **continuous** function.\n",
    "If we want to know if this has a root, we have to check if there is an interval $[a,b]$ for which \n",
    "$f(a)\\cdot f(b) < 0$. When these 2 conditions are satisfied, it means that there is a value $r$, between $a$ and $b$, for which $f(r) = 0$. To summarize how this method works, start with the aforementioned interval (checking that there's a root in it), and split it into two smaller intervals $[a,c]$ and $[c,b]$. Then, check which of the two intervals contains a root. Keep splitting each \"eligible\" interval until the algorithm converges or the tolerance is surpassed."
   ]
  },
  {
   "cell_type": "code",
   "execution_count": 14,
   "metadata": {
    "nbpresent": {
     "id": "1261a3bc-1a85-41f6-834e-5882848b6265"
    }
   },
   "outputs": [],
   "source": [
    "def bisect(f, a, b, tol=1e-8):\n",
    "    fa = f(a)\n",
    "    fb = f(b)\n",
    "    i = 0\n",
    "    # Just checking if the sign is not negative => not root  necessarily \n",
    "    if np.sign(f(a)*f(b)) >= 0:\n",
    "        print('f(a)f(b)<0 not satisfied!')\n",
    "        return None\n",
    "  \n",
    "    #Printing the evolution of the computation of the root\n",
    "    print(' i |     a     |     c     |     b     |     fa    |     fc     |     fb     |   b-a')\n",
    "    print('----------------------------------------------------------------------------------------')\n",
    "    \n",
    "    while(b-a)/2 > tol:\n",
    "        c = (a+b)/2.\n",
    "        fc = f(c)\n",
    "        print('%2d | %.7f | %.7f | %.7f | %.7f | %.7f | %.7f | %.7f' %\n",
    "              (i+1, a, c, b, fa, fc, fb, b-a))\n",
    "        # Did we find the root?\n",
    "        if fc == 0:\n",
    "            print('f(c)==0')\n",
    "            break\n",
    "        elif np.sign(fa*fc) < 0:\n",
    "            b = c\n",
    "            fb = fc\n",
    "        else:\n",
    "            a = c\n",
    "            fa = fc\n",
    "        i += 1\n",
    "        \n",
    "    xc = (a+b)/2.\n",
    "    return xc"
   ]
  },
  {
   "cell_type": "code",
   "execution_count": null,
   "metadata": {
    "nbpresent": {
     "id": "95c67a15-aecf-40cb-b9bc-b1145767fb97"
    }
   },
   "outputs": [
    {
     "name": "stdout",
     "output_type": "stream",
     "text": [
      " i |     a     |     c     |     b     |     fa    |     fc     |     fb     |   b-a\n",
      "----------------------------------------------------------------------------------------\n",
      " 1 | 0.0000000 | 1.0000000 | 2.0000000 | 1.0000000 | 0.5403023 | -0.4161468 | 2.0000000\n",
      " 2 | 1.0000000 | 1.5000000 | 2.0000000 | 0.5403023 | 0.0707372 | -0.4161468 | 1.0000000\n",
      " 3 | 1.5000000 | 1.7500000 | 2.0000000 | 0.0707372 | -0.1782461 | -0.4161468 | 0.5000000\n",
      " 4 | 1.5000000 | 1.6250000 | 1.7500000 | 0.0707372 | -0.0541771 | -0.1782461 | 0.2500000\n",
      " 5 | 1.5000000 | 1.5625000 | 1.6250000 | 0.0707372 | 0.0082962 | -0.0541771 | 0.1250000\n",
      " 6 | 1.5625000 | 1.5937500 | 1.6250000 | 0.0082962 | -0.0229517 | -0.0541771 | 0.0625000\n",
      " 7 | 1.5625000 | 1.5781250 | 1.5937500 | 0.0082962 | -0.0073286 | -0.0229517 | 0.0312500\n",
      " 8 | 1.5625000 | 1.5703125 | 1.5781250 | 0.0082962 | 0.0004838 | -0.0073286 | 0.0156250\n",
      " 9 | 1.5703125 | 1.5742188 | 1.5781250 | 0.0004838 | -0.0034224 | -0.0073286 | 0.0078125\n",
      "10 | 1.5703125 | 1.5722656 | 1.5742188 | 0.0004838 | -0.0014693 | -0.0034224 | 0.0039062\n",
      "11 | 1.5703125 | 1.5712891 | 1.5722656 | 0.0004838 | -0.0004927 | -0.0014693 | 0.0019531\n",
      "12 | 1.5703125 | 1.5708008 | 1.5712891 | 0.0004838 | -0.0000045 | -0.0004927 | 0.0009766\n",
      "13 | 1.5703125 | 1.5705566 | 1.5708008 | 0.0004838 | 0.0002397 | -0.0000045 | 0.0004883\n",
      "14 | 1.5705566 | 1.5706787 | 1.5708008 | 0.0002397 | 0.0001176 | -0.0000045 | 0.0002441\n",
      "15 | 1.5706787 | 1.5707397 | 1.5708008 | 0.0001176 | 0.0000566 | -0.0000045 | 0.0001221\n",
      "16 | 1.5707397 | 1.5707703 | 1.5708008 | 0.0000566 | 0.0000261 | -0.0000045 | 0.0000610\n",
      "17 | 1.5707703 | 1.5707855 | 1.5708008 | 0.0000261 | 0.0000108 | -0.0000045 | 0.0000305\n",
      "18 | 1.5707855 | 1.5707932 | 1.5708008 | 0.0000108 | 0.0000032 | -0.0000045 | 0.0000153\n",
      "19 | 1.5707932 | 1.5707970 | 1.5708008 | 0.0000032 | -0.0000006 | -0.0000045 | 0.0000076\n",
      "20 | 1.5707932 | 1.5707951 | 1.5707970 | 0.0000032 | 0.0000013 | -0.0000006 | 0.0000038\n",
      "21 | 1.5707951 | 1.5707960 | 1.5707970 | 0.0000013 | 0.0000003 | -0.0000006 | 0.0000019\n",
      "22 | 1.5707960 | 1.5707965 | 1.5707970 | 0.0000003 | -0.0000002 | -0.0000006 | 0.0000010\n",
      "23 | 1.5707960 | 1.5707963 | 1.5707965 | 0.0000003 | 0.0000001 | -0.0000002 | 0.0000005\n",
      "24 | 1.5707963 | 1.5707964 | 1.5707965 | 0.0000001 | -0.0000000 | -0.0000002 | 0.0000002\n",
      "25 | 1.5707963 | 1.5707963 | 1.5707964 | 0.0000001 | 0.0000000 | -0.0000000 | 0.0000001\n",
      "26 | 1.5707963 | 1.5707963 | 1.5707964 | 0.0000000 | -0.0000000 | -0.0000000 | 0.0000001\n",
      "27 | 1.5707963 | 1.5707963 | 1.5707963 | 0.0000000 | 0.0000000 | -0.0000000 | 0.0000000\n",
      "28 | 1.5707963 | 1.5707963 | 1.5707963 | 0.0000000 | -0.0000000 | -0.0000000 | 0.0000000\n",
      "29 | 1.5707963 | 1.5707963 | 1.5707963 | 0.0000000 | -0.0000000 | -0.0000000 | 0.0000000\n",
      "30 | 1.5707963 | 1.5707963 | 1.5707963 | 0.0000000 | -0.0000000 | -0.0000000 | 0.0000000\n",
      "31 | 1.5707963 | 1.5707963 | 1.5707963 | 0.0000000 | 0.0000000 | -0.0000000 | 0.0000000\n",
      "32 | 1.5707963 | 1.5707963 | 1.5707963 | 0.0000000 | -0.0000000 | -0.0000000 | 0.0000000\n",
      "33 | 1.5707963 | 1.5707963 | 1.5707963 | 0.0000000 | -0.0000000 | -0.0000000 | 0.0000000\n",
      "34 | 1.5707963 | 1.5707963 | 1.5707963 | 0.0000000 | -0.0000000 | -0.0000000 | 0.0000000\n",
      "35 | 1.5707963 | 1.5707963 | 1.5707963 | 0.0000000 | 0.0000000 | -0.0000000 | 0.0000000\n",
      "36 | 1.5707963 | 1.5707963 | 1.5707963 | 0.0000000 | -0.0000000 | -0.0000000 | 0.0000000\n",
      "37 | 1.5707963 | 1.5707963 | 1.5707963 | 0.0000000 | -0.0000000 | -0.0000000 | 0.0000000\n",
      "38 | 1.5707963 | 1.5707963 | 1.5707963 | 0.0000000 | -0.0000000 | -0.0000000 | 0.0000000\n",
      "39 | 1.5707963 | 1.5707963 | 1.5707963 | 0.0000000 | -0.0000000 | -0.0000000 | 0.0000000\n",
      "40 | 1.5707963 | 1.5707963 | 1.5707963 | 0.0000000 | 0.0000000 | -0.0000000 | 0.0000000\n",
      "41 | 1.5707963 | 1.5707963 | 1.5707963 | 0.0000000 | -0.0000000 | -0.0000000 | 0.0000000\n",
      "42 | 1.5707963 | 1.5707963 | 1.5707963 | 0.0000000 | 0.0000000 | -0.0000000 | 0.0000000\n",
      "43 | 1.5707963 | 1.5707963 | 1.5707963 | 0.0000000 | 0.0000000 | -0.0000000 | 0.0000000\n",
      "44 | 1.5707963 | 1.5707963 | 1.5707963 | 0.0000000 | -0.0000000 | -0.0000000 | 0.0000000\n"
     ]
    }
   ],
   "source": [
    "## Finding a root of cos(x). What about if you change the interval?\n",
    "f = lambda x: np.cos(x)\n",
    "## Another function\n",
    "#f = lambda x: x**3-2*x**2+(4/3)*x-(8/27)\n",
    "## Computing the cubic root of 7.\n",
    "#f = lambda x: x**3-7\n",
    "#bisect(f,0,2)\n",
    "# f = lambda x: 7 - 2/x\n",
    "# f2 = lambda xz: np.cos(x)\n",
    "bisect(f,0,2,tol=1e-13)"
   ]
  },
  {
   "cell_type": "markdown",
   "metadata": {
    "nbpresent": {
     "id": "8f1dcc0b-4e83-4eb0-9020-30ea3107c233"
    }
   },
   "source": [
    "It's very important to define a concept called **convergence rate**. \n",
    "This rate shows how fast the convergence of a method is at a specified point.\n",
    "\n",
    "The convergence rate for the bisection is always 0.5 because this method uses the half of the interval for each iteration."
   ]
  },
  {
   "cell_type": "markdown",
   "metadata": {
    "nbpresent": {
     "id": "922fabb4-427a-437f-a954-0f80955d4487"
    }
   },
   "source": [
    "<div id='cobweb' />\n",
    "\n",
    "## Cobweb Plot"
   ]
  },
  {
   "cell_type": "code",
   "execution_count": 7,
   "metadata": {
    "nbpresent": {
     "id": "8985be0d-1596-4e5b-aaed-88f1e947cb8e"
    }
   },
   "outputs": [],
   "source": [
    "def cobweb(x,g=None):\n",
    "    min_x = np.amin(x)\n",
    "    max_x = np.amax(x)\n",
    "    \n",
    "    plt.figure(figsize=(10,10))\n",
    "    ax = plt.axes()\n",
    "    plt.plot(np.array([min_x,max_x]),np.array([min_x,max_x]),'b-')\n",
    "    for i in np.arange(x.size-1):\n",
    "        delta_x = x[i+1]-x[i]\n",
    "        head_length =  np.abs(delta_x)*0.04\n",
    "        arrow_length = delta_x-np.sign(delta_x)*head_length\n",
    "        ax.arrow(x[i], x[i], 0, arrow_length, head_width=1.5*head_length, head_length=head_length, fc='k', ec='k')\n",
    "        ax.arrow(x[i], x[i+1], arrow_length, 0, head_width=1.5*head_length, head_length=head_length, fc='k', ec='k')\n",
    "    \n",
    "    if g!=None:\n",
    "        y = np.linspace(min_x,max_x,1000)\n",
    "        plt.plot(y,g(y),'r')\n",
    "    \n",
    "    plt.title('Cobweb diagram')\n",
    "    plt.grid(True)\n",
    "    plt.show()"
   ]
  },
  {
   "cell_type": "markdown",
   "metadata": {
    "nbpresent": {
     "id": "55bcc6fb-d884-4d44-b569-078ce0ad1459"
    }
   },
   "source": [
    "<div id='fpi' />\n",
    "\n",
    "## Fixed Point Iteration"
   ]
  },
  {
   "cell_type": "markdown",
   "metadata": {
    "nbpresent": {
     "id": "ef495f98-a04f-404f-8e91-460af809e7bd"
    }
   },
   "source": [
    "To learn about the Fixed-Point Iteration we will first learn about the concept of Fixed Point.\n",
    "\n",
    "A Fixed Point of a function $g$ is a real number $r$, where $g(r) = r$\n",
    "\n",
    "The Fixed-Point Iteration is based in the Fixed Point concept and works like this to find the root of a function:\n",
    "\n",
    "\\begin{equation} x_{0} = initial\\_guess \\\\ x_{i+1} = g(x_{i})\\end{equation}\n",
    "\n",
    "To find an equation's solution using this method you'll have to move around some things to rearrange the equation in the form $x = g(x)$. That way, you'll be iterating over the funcion $g(x)$, but you will **not** find $g$'s root, but $f(x) = g(x) - x$ (or $f(x) = x - g(x)$)'s root. In our following example, we'll find the solution to $f(x) = x - \\cos(x)$ by iterating over the funcion $g(x) = \\cos(x)$.\n",
    "\n"
   ]
  },
  {
   "cell_type": "code",
   "execution_count": 11,
   "metadata": {
    "nbpresent": {
     "id": "1cd6c7c7-0b0d-4537-8361-c712ccec3478"
    }
   },
   "outputs": [],
   "source": [
    "def fpi(g, x0, k, flag_cobweb=False):\n",
    "    x = np.empty(k+1)\n",
    "    x[0] = x0\n",
    "    error_i = np.nan\n",
    "    \n",
    "    print(' i |     x(i)     |    x(i+1)    ||x(i+1)-x(i)| | e_i/e_{i-1}')\n",
    "    print('--------------------------------------------------------------')\n",
    "    \n",
    "    for i in range(k):\n",
    "        x[i+1] = g(x[i])\n",
    "        error_iminus1 = error_i\n",
    "        error_i = abs(x[i+1]-x[i])\n",
    "        print('%2d | %.10f | %.10f | %.10f | %.10f' %\n",
    "              (i,x[i],x[i+1],error_i,error_i/error_iminus1))\n",
    "    if flag_cobweb:\n",
    "        cobweb(x,g)\n",
    "    return x[-1]"
   ]
  },
  {
   "cell_type": "code",
   "execution_count": 20,
   "metadata": {
    "nbpresent": {
     "id": "a3a27d8e-4cec-407f-8aa4-5301d152d7a2"
    },
    "scrolled": false
   },
   "outputs": [
    {
     "name": "stdout",
     "output_type": "stream",
     "text": [
      " i |     x(i)     |    x(i+1)    ||x(i+1)-x(i)| | e_i/e_{i-1}\n",
      "--------------------------------------------------------------\n",
      " 0 | 6.7015621187 | 6.7015621187 | 0.0000000000 | nan\n",
      " 1 | 6.7015621187 | 6.7015621187 | 0.0000000000 | 0.0384615385\n",
      " 2 | 6.7015621187 | 6.7015621187 | 0.0000000000 | 0.0000000000\n",
      " 3 | 6.7015621187 | 6.7015621187 | 0.0000000000 | nan\n"
     ]
    },
    {
     "name": "stderr",
     "output_type": "stream",
     "text": [
      "c:\\users\\lucio\\appdata\\local\\programs\\python\\python37\\lib\\site-packages\\ipykernel_launcher.py:14: RuntimeWarning: invalid value encountered in double_scalars\n",
      "  \n"
     ]
    },
    {
     "ename": "NameError",
     "evalue": "name 'cobweb' is not defined",
     "output_type": "error",
     "traceback": [
      "\u001b[1;31m---------------------------------------------------------------------------\u001b[0m",
      "\u001b[1;31mNameError\u001b[0m                                 Traceback (most recent call last)",
      "\u001b[1;32m<ipython-input-20-56d495a8156e>\u001b[0m in \u001b[0;36m<module>\u001b[1;34m\u001b[0m\n\u001b[0;32m      1\u001b[0m \u001b[0mg\u001b[0m \u001b[1;33m=\u001b[0m \u001b[1;32mlambda\u001b[0m \u001b[0mx\u001b[0m\u001b[1;33m:\u001b[0m \u001b[1;36m7\u001b[0m\u001b[1;33m-\u001b[0m\u001b[1;33m(\u001b[0m\u001b[1;36m2\u001b[0m\u001b[1;33m/\u001b[0m\u001b[0mx\u001b[0m\u001b[1;33m)\u001b[0m\u001b[1;33m\u001b[0m\u001b[1;33m\u001b[0m\u001b[0m\n\u001b[1;32m----> 2\u001b[1;33m \u001b[0mfpi\u001b[0m\u001b[1;33m(\u001b[0m\u001b[0mg\u001b[0m\u001b[1;33m,\u001b[0m \u001b[1;36m6.7015621187164\u001b[0m\u001b[1;33m,\u001b[0m \u001b[1;36m4\u001b[0m\u001b[1;33m,\u001b[0m \u001b[1;32mTrue\u001b[0m\u001b[1;33m)\u001b[0m\u001b[1;33m\u001b[0m\u001b[1;33m\u001b[0m\u001b[0m\n\u001b[0m",
      "\u001b[1;32m<ipython-input-11-144caad314cf>\u001b[0m in \u001b[0;36mfpi\u001b[1;34m(g, x0, k, flag_cobweb)\u001b[0m\n\u001b[0;32m     14\u001b[0m               (i,x[i],x[i+1],error_i,error_i/error_iminus1))\n\u001b[0;32m     15\u001b[0m     \u001b[1;32mif\u001b[0m \u001b[0mflag_cobweb\u001b[0m\u001b[1;33m:\u001b[0m\u001b[1;33m\u001b[0m\u001b[1;33m\u001b[0m\u001b[0m\n\u001b[1;32m---> 16\u001b[1;33m         \u001b[0mcobweb\u001b[0m\u001b[1;33m(\u001b[0m\u001b[0mx\u001b[0m\u001b[1;33m,\u001b[0m\u001b[0mg\u001b[0m\u001b[1;33m)\u001b[0m\u001b[1;33m\u001b[0m\u001b[1;33m\u001b[0m\u001b[0m\n\u001b[0m\u001b[0;32m     17\u001b[0m     \u001b[1;32mreturn\u001b[0m \u001b[0mx\u001b[0m\u001b[1;33m[\u001b[0m\u001b[1;33m-\u001b[0m\u001b[1;36m1\u001b[0m\u001b[1;33m]\u001b[0m\u001b[1;33m\u001b[0m\u001b[1;33m\u001b[0m\u001b[0m\n",
      "\u001b[1;31mNameError\u001b[0m: name 'cobweb' is not defined"
     ]
    }
   ],
   "source": [
    "g = lambda x: 7-(2/x)\n",
    "fpi(g, 6.7015621187164, 4, True)"
   ]
  },
  {
   "cell_type": "markdown",
   "metadata": {
    "nbpresent": {
     "id": "f3e3319f-ad4b-4c0b-89e7-7bd915c819ac"
    }
   },
   "source": [
    "Let's quickly explain the Cobweb Diagram we have here. The <font color=\"blue\">blue</font> line is the function $x$ and the <font color=\"red\">red</font> is the function $g(x)$. The point in which they meet is $g$'s fixed point. In this particular example, we start at <font color=\"blue\">$y = x = 1.5$</font> (the top right corner) and then we \"jump\" **vertically** to <font color=\"red\">$y = \\cos(1.5) \\approx 0.07$</font>. After this, we jump **horizontally** to <font color=\"blue\">$x = \\cos(1.5) \\approx 0.07$</font>. Then, we jump again **vertically** to <font color=\"red\">$y = \\cos\\left(\\cos(1.5)\\right) \\approx 0.997$</font> and so on. See the pattern here? We're just iterating over $x = \\cos(x)$, getting closer to the center of the diagram where the fixed point resides, in $x \\approx 0.739$."
   ]
  },
  {
   "cell_type": "markdown",
   "metadata": {
    "nbpresent": {
     "id": "39bab94c-eca7-4f81-b21d-c47784e1820d"
    }
   },
   "source": [
    "It's very important to mention that the algorithm will converge only if the rate of convergence $S < 1$, where $S = \\left| g'(r) \\right|$. If you want to use this method, you'll have to construct $g(x)$ starting from $f(x)$ accordingly. In this example, $g(x) = \\cos(x) \\Rightarrow g'(x) = -\\sin(x)$ and $|-\\sin(0.739)| \\approx 0.67$."
   ]
  },
  {
   "cell_type": "markdown",
   "metadata": {},
   "source": [
    "### Another example. Source: https://divisbyzero.com/2008/12/18/sharkovskys-theorem/amp/?__twitter_impression=true"
   ]
  },
  {
   "cell_type": "code",
   "execution_count": null,
   "metadata": {},
   "outputs": [],
   "source": [
    "g = lambda x: -(3/2)*x**2+(11/2)*x-2\n",
    "gp = lambda x: -3*x+11/2\n",
    "\n",
    "a=-1/2.7\n",
    "g2 = lambda x: x+a*(x-g(x))\n",
    "\n",
    "#x=np.linspace(2,3,100)\n",
    "#plt.plot(x,gp(x),'-')\n",
    "#plt.plot(x,gp(x)*0+1,'r-')\n",
    "#plt.plot(x,gp(x)*0-1,'g-')\n",
    "#plt.grid(True)\n",
    "#plt.show()\n",
    "fpi(g2, 2.45, 12, True)"
   ]
  },
  {
   "cell_type": "markdown",
   "metadata": {
    "nbpresent": {
     "id": "206edc54-dc0d-4831-a4c1-de99c755ca83"
    }
   },
   "source": [
    "<div id='nm' />\n",
    "\n",
    "## Newton's Method\n",
    "\n",
    "For this method, we want to iteratively find some function $f(x)$'s root, that is, the number $r$ for which $f(r) = 0$. The algorithm is as follows:\n",
    "\n",
    "\\begin{equation} x_0 = initial\\_guess \\end{equation}\n",
    "\\begin{equation} x_{i+1} = x_i - \\cfrac{f(x_i)}{f'(x_i)} \\end{equation}\n",
    "\n",
    "which means that you won't be able to find $f$'s root if $f'(r) = 0$. In this case, you would have to use the modified version of this method, but for now let's focus on the unmodified version first. Newton's (unmodified) method is said to have quadratic convergence."
   ]
  },
  {
   "cell_type": "code",
   "execution_count": null,
   "metadata": {
    "nbpresent": {
     "id": "9aa7ed8c-a5f0-4474-a1f9-3faed0af85ba"
    }
   },
   "outputs": [],
   "source": [
    "def newton_method(f, fp, x0, rel_error=1e-8, m=1):\n",
    "    #Initialization of hybrid error and absolute\n",
    "    hybrid_error = 100\n",
    "    error_i = np.inf\n",
    "    \n",
    "    print('i |     x(i)     |     x(i+1)   |      |x(i+1)-x(i)|     |  e_i/e_{i-1} | e_i/e_{i-1}^2')\n",
    "    print('----------------------------------------------------------------------------------------')\n",
    "    \n",
    "    #Iteration counter\n",
    "    i = 1\n",
    "    while (hybrid_error > rel_error and hybrid_error < 1e12 and i < 1e4):\n",
    "        #Newton's iteration\n",
    "        x1 = x0-m*f(x0)/fp(x0)\n",
    "        \n",
    "        #Checking if root was found\n",
    "        if f(x1) == 0.0:\n",
    "            hybrid_error = 0.0\n",
    "            break\n",
    "        \n",
    "        #Computation of hybrid error\n",
    "        hybrid_error = abs(x1-x0)/np.max([abs(x1),1e-12])\n",
    "        \n",
    "        #Computation of absolute error\n",
    "        error_iminus1 = error_i\n",
    "        error_i = abs(x1-x0)\n",
    "        \n",
    "        #Increasing counter\n",
    "        i += 1\n",
    "        \n",
    "        #Showing some info\n",
    "        print(\"%d | %.10f | %.10f | %.20f | %.10f | %.10f\" % \n",
    "              (i, x0, x1, error_i, error_i/error_iminus1, error_i/(error_iminus1**2)))\n",
    "        #Updating solution\n",
    "        x0 = x1\n",
    "    \n",
    "    #Checking if solution was obtained\n",
    "    if hybrid_error < rel_error: \n",
    "        return x1\n",
    "    elif i>=1e4:\n",
    "        print('Newton''s Method diverged. Too many iterations!!')\n",
    "        return None\n",
    "    else:\n",
    "        print('Newton''s Method diverged!')\n",
    "        return None"
   ]
  },
  {
   "cell_type": "code",
   "execution_count": null,
   "metadata": {
    "nbpresent": {
     "id": "cd221273-2a77-491b-ba4c-7dce1842b806"
    }
   },
   "outputs": [],
   "source": [
    "f = lambda x: np.sin(x)\n",
    "fp = lambda x: np.cos(x) # the derivative of f\n",
    "newton_method(f, fp, 3.1,rel_error=1e-14)"
   ]
  },
  {
   "cell_type": "code",
   "execution_count": null,
   "metadata": {},
   "outputs": [],
   "source": [
    "f = lambda x: x**2\n",
    "fp = lambda x: 2*x # the derivative of f\n",
    "newton_method(f, fp, 3.1,rel_error=1e-2, m=2)"
   ]
  },
  {
   "cell_type": "markdown",
   "metadata": {},
   "source": [
    "<div id='wilkinson' />\n",
    "\n",
    "## Wilkinson Polynomial\n",
    "https://en.wikipedia.org/wiki/Wilkinson%27s_polynomial\n",
    "\n",
    "**Final question: Why is the root far far away from $16$?**"
   ]
  },
  {
   "cell_type": "code",
   "execution_count": null,
   "metadata": {},
   "outputs": [],
   "source": [
    "x = sym.symbols('x', reals=True)\n",
    "W=1\n",
    "for i in np.arange(1,21):\n",
    "        W*=(x-i)\n",
    "W # Printing W nicely"
   ]
  },
  {
   "cell_type": "code",
   "execution_count": null,
   "metadata": {},
   "outputs": [],
   "source": [
    "# Expanding the Wilkinson polynomial\n",
    "We=sym.expand(W)\n",
    "We "
   ]
  },
  {
   "cell_type": "code",
   "execution_count": null,
   "metadata": {},
   "outputs": [],
   "source": [
    "# Just computiong the derivative\n",
    "Wep=sym.diff(We,x)\n",
    "Wep"
   ]
  },
  {
   "cell_type": "code",
   "execution_count": null,
   "metadata": {},
   "outputs": [],
   "source": [
    "# Lamdifying the polynomial to be used with sympy\n",
    "P=sym.lambdify(x,We)\n",
    "Pp=sym.lambdify(x,Wep)"
   ]
  },
  {
   "cell_type": "code",
   "execution_count": null,
   "metadata": {},
   "outputs": [],
   "source": [
    "# Using scipy function to compute a root\n",
    "root = optimize.newton(P,16)\n",
    "print(root)"
   ]
  },
  {
   "cell_type": "markdown",
   "metadata": {},
   "source": [
    "<div id='acknowledgements' />\n",
    "\n",
    "# Acknowledgements\n",
    "* _Material created by professor Claudio Torres_ (`ctorres@inf.utfsm.cl`) _and assistants: Laura Bermeo, Alvaro Salinas, Axel Simonsen and Martín Villanueva. DI UTFSM. March 2016._ v1.1.\n",
    "* _Update April 2020 - v1.32 - C.Torres_ : Re-ordering the notebook."
   ]
  },
  {
   "cell_type": "markdown",
   "metadata": {},
   "source": [
    "# Propose Classwork\n",
    "Build a FPI such that given $x$ computes $\\displaystyle \\frac{1}{x}$. Write down your solution below or go and see the [solution](#sol1)"
   ]
  },
  {
   "cell_type": "code",
   "execution_count": null,
   "metadata": {},
   "outputs": [],
   "source": [
    "print('Please try to think and solve before you see the solution!!!')"
   ]
  },
  {
   "cell_type": "markdown",
   "metadata": {},
   "source": [
    "# In class"
   ]
  },
  {
   "cell_type": "markdown",
   "metadata": {},
   "source": [
    "### From the textbook"
   ]
  },
  {
   "cell_type": "code",
   "execution_count": null,
   "metadata": {},
   "outputs": [],
   "source": [
    "g1 = lambda x: 1-x**3\n",
    "g2 = lambda x: (1-x)**(1/3)\n",
    "g3 = lambda x: (1+2*x**3)/(1+3*x**2)\n",
    "fpi(g3, 0.5, 10, True)"
   ]
  },
  {
   "cell_type": "code",
   "execution_count": null,
   "metadata": {},
   "outputs": [],
   "source": [
    "g1p = lambda x: -3*x**2\n",
    "g2p = lambda x: -(1/3)*(1-x)**(-2/3)\n",
    "g3p = lambda x: ((1+3*x**2)*(6*x**2)-(1+2*x**3)*6*x)/((1+3*x**2)**2)\n",
    "r=0.6823278038280194\n",
    "print(g3p(r))"
   ]
  },
  {
   "cell_type": "markdown",
   "metadata": {},
   "source": [
    "### Adding another implementation of FPI including and extra column for analyzing quadratic convergence"
   ]
  },
  {
   "cell_type": "code",
   "execution_count": null,
   "metadata": {},
   "outputs": [],
   "source": [
    "def fpi2(g, x0, k, flag_cobweb=False):\n",
    "    x = np.empty(k+1)\n",
    "    x[0] = x0\n",
    "    error_i = np.inf\n",
    "    \n",
    "    print(' i |     x(i)     |    x(i+1)    ||x(i+1)-x(i)| | e_i/e_{i-1} | e_i/e_{i-1}^2')\n",
    "    print('-----------------------------------------------------------------------------')\n",
    "    \n",
    "    for i in range(k):\n",
    "        x[i+1] = g(x[i])\n",
    "        error_iminus1 = error_i\n",
    "        error_i = abs(x[i+1]-x[i])\n",
    "        print('%2d | %.10f | %.10f | %.10f | %.10f | %.10f' %\n",
    "              (i,x[i],x[i+1],error_i,error_i/error_iminus1,error_i/(error_iminus1**2)))\n",
    "    if flag_cobweb:\n",
    "        cobweb(x,g)\n",
    "    return x[-1]"
   ]
  },
  {
   "cell_type": "markdown",
   "metadata": {},
   "source": [
    "Which function shows quadratic convergence? Why?"
   ]
  },
  {
   "cell_type": "code",
   "execution_count": null,
   "metadata": {},
   "outputs": [],
   "source": [
    "g1 = lambda x: (4./5.)*x+1./x\n",
    "g2 = lambda x: x/2.+5./(2*x)\n",
    "g3 = lambda x: (x+5.)/(x+1)\n",
    "fpi2(g1, 3.0, 30, True)"
   ]
  },
  {
   "cell_type": "markdown",
   "metadata": {},
   "source": [
    "### Building a FPI to compute the cubic root of 7"
   ]
  },
  {
   "cell_type": "code",
   "execution_count": null,
   "metadata": {},
   "outputs": [],
   "source": [
    "# What is 'a'? Can we find another 'a'?\n",
    "a = -3*(1.7**2)\n",
    "print(a)"
   ]
  },
  {
   "cell_type": "code",
   "execution_count": null,
   "metadata": {},
   "outputs": [],
   "source": [
    "f = lambda x: x**3-7\n",
    "g =  lambda x: f(x)/a+x\n",
    "r=fpi(g, 1.7, 14, True)\n",
    "print(f(r))"
   ]
  },
  {
   "cell_type": "markdown",
   "metadata": {},
   "source": [
    "### Playing with some roots"
   ]
  },
  {
   "cell_type": "code",
   "execution_count": null,
   "metadata": {},
   "outputs": [],
   "source": [
    "f = lambda x: 8*x**4-12*x**3+6*x**2-x\n",
    "fp = lambda x: 32*x**3-36*x**2+12*x-1\n",
    "\n",
    "x = np.linspace(-1,1,1000)\n",
    "plt.figure(figsize=(10,10))\n",
    "\n",
    "plt.title('What are we seeing with the semiloigy plot? Is this function differentiable?')\n",
    "plt.semilogy(x,np.abs(f(x)),'b-')\n",
    "plt.semilogy(x,np.abs(fp(x)),'r-')\n",
    "plt.grid()\n",
    "plt.ylabel('$f(x)$',fontsize=16)\n",
    "plt.xlabel('$x$',fontsize=16)\n",
    "plt.show()"
   ]
  },
  {
   "cell_type": "code",
   "execution_count": null,
   "metadata": {
    "scrolled": false
   },
   "outputs": [],
   "source": [
    "r=newton_method(f, fp, 0.3, rel_error=1e-8, m=1)\n",
    "print([r,f(r)])\n",
    "# Is this showing quadratic convergence? If not, can you fix it?"
   ]
  },
  {
   "cell_type": "markdown",
   "metadata": {},
   "source": [
    "# Solutions"
   ]
  },
  {
   "cell_type": "markdown",
   "metadata": {},
   "source": [
    "<div id='sol1' />\n",
    "Problem: Build a FPI such that given $x$ computes $\\displaystyle \\frac{1}{x}$"
   ]
  },
  {
   "cell_type": "code",
   "execution_count": null,
   "metadata": {
    "scrolled": false
   },
   "outputs": [],
   "source": [
    "# We are finding the 1/a\n",
    "# Solution code:\n",
    "a = 2.1\n",
    "g = lambda x: 2*x-a*x**2\n",
    "gp = lambda x: 2-2*a*x\n",
    "r=fpi2(g, 0.7, 7, flag_cobweb=True)\n",
    "print([r,1/a])\n",
    "# Are we seeing quadratic convergence?"
   ]
  },
  {
   "cell_type": "markdown",
   "metadata": {},
   "source": [
    "### What is this plot telling us?"
   ]
  },
  {
   "cell_type": "code",
   "execution_count": null,
   "metadata": {},
   "outputs": [],
   "source": [
    "xx=np.linspace(0.2,0.8,1000)\n",
    "plt.figure(figsize=(10,10))\n",
    "plt.plot(xx,g(xx),'-',label=r'$g(x)$')\n",
    "plt.plot(xx,gp(xx),'r-',label=r'$gp(x)$')\n",
    "plt.plot(xx,xx,'g-',label=r'$x$')\n",
    "plt.plot(xx,0*xx+1,'k--')\n",
    "plt.plot(xx,0*xx-1,'k--')\n",
    "plt.legend(loc='best')\n",
    "plt.grid()\n",
    "plt.show()"
   ]
  },
  {
   "cell_type": "code",
   "execution_count": null,
   "metadata": {},
   "outputs": [],
   "source": []
  }
 ],
 "metadata": {
  "anaconda-cloud": {},
  "kernelspec": {
   "display_name": "Python 3",
   "language": "python",
   "name": "python3"
  },
  "language_info": {
   "codemirror_mode": {
    "name": "ipython",
    "version": 3
   },
   "file_extension": ".py",
   "mimetype": "text/x-python",
   "name": "python",
   "nbconvert_exporter": "python",
   "pygments_lexer": "ipython3",
   "version": "3.7.3"
  },
  "nbpresent": {
   "slides": {},
   "themes": {}
  },
  "widgets": {
   "state": {
    "94da59a7c7f048fab84c37a6defdb254": {
     "views": [
      {
       "cell_index": 8
      }
     ]
    }
   },
   "version": "1.2.0"
  }
 },
 "nbformat": 4,
 "nbformat_minor": 4
}
