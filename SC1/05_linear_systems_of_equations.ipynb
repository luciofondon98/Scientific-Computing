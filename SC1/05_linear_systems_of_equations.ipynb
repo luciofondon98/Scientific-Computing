{
 "cells": [
  {
   "cell_type": "markdown",
   "metadata": {},
   "source": [
    "<center>\n",
    "    <h1> ILI285 - Computación Científica I  / INF285 - Computación Científica </h1>\n",
    "    <h2> Linear Systems of Equations </h2>\n",
    "    <h2> <a href=\"#acknowledgements\"> [S]cientific [C]omputing [T]eam </a> </h2>\n",
    "    <h2> Version: 1.12</h2>\n",
    "</center>"
   ]
  },
  {
   "cell_type": "markdown",
   "metadata": {},
   "source": [
    "## Table of Contents\n",
    "* [Introduction](#intro)\n",
    "* [Direct Methods](#DM)\n",
    "* [LU](#lu)\n",
    "* [Palu](#palu)\n",
    "* [Cholesky](#cholesky)\n",
    "* [Iterative Methods](#im)\n",
    "* [Convergence Analysis](#ca)\n",
    "* [Exercises](#ex)\n",
    "* [Acknowledgements](#acknowledgements)"
   ]
  },
  {
   "cell_type": "code",
   "execution_count": 1,
   "metadata": {},
   "outputs": [],
   "source": [
    "import numpy as np\n",
    "import matplotlib.pyplot as plt\n",
    "%matplotlib inline"
   ]
  },
  {
   "cell_type": "markdown",
   "metadata": {},
   "source": [
    "<div id='intro' />\n",
    "\n",
    "## Introduction\n",
    "\n",
    "In our last Jupyter Notebook we learned how to solve 1D equations. Now, we'll go to the next level and will learn how to solve not just <i>one</i> equation, but a <i>system</i> of linear equations. This is a set of $n$ equations involving $n$ variables wherein all the equations must be satisfied at the same time. You probably know how to solve small 2D systems with methods such as substitution and reduction, but in practical real-life situations it's very likely that you'll find problems of bigger dimensions. As usual, we'll present some useful methods for solving systems of linear equations below."
   ]
  },
  {
   "cell_type": "markdown",
   "metadata": {},
   "source": [
    "<div id='DM' />\n",
    "\n",
    "## Direct Methods"
   ]
  },
  {
   "cell_type": "markdown",
   "metadata": {},
   "source": [
    "Firstly, we will study _direct methods_. They compute the analytic solution of the system (from here comes the name **direct**) limited only by the loss of numerical precision, because of the arithmetic operations performed by the computer. Their counterpart is the _iterative methods_, which calculate an approximate solution that evolves iteratively converging to the real solution."
   ]
  },
  {
   "cell_type": "markdown",
   "metadata": {},
   "source": [
    "<div id='lu' />\n",
    "\n",
    "### LU decomposition"
   ]
  },
  {
   "cell_type": "markdown",
   "metadata": {},
   "source": [
    "Given the matrix $A \\in \\mathbb{R}^{n \\times n}$ square and non singular, the main goal of this method involves finding a decomposition like $A = L U$ where $L,U \\in  \\mathbb{R}^{n \\times n}$ are lower and upper triangular matrices respectively.\n",
    "\n",
    "The algorithm to perform this decomposition is basically a modified version of _Gaussian Elimination_. It basically iterates through the first $n-1$ columns, making $0$ all the entries below the main diagonal. This is accomplished by performing row operations. "
   ]
  },
  {
   "cell_type": "code",
   "execution_count": 4,
   "metadata": {},
   "outputs": [],
   "source": [
    "def lu_decomp(A, show=False):\n",
    "    N,_ = A.shape\n",
    "    U = np.copy(A)\n",
    "    L = np.identity(N)\n",
    "    if show:\n",
    "        print('Initial matrices')\n",
    "        print('L = '); print(np.array_str(L, precision=2, suppress_small=True))\n",
    "        print('U = '); print(np.array_str(U, precision=2, suppress_small=True))\n",
    "        print('----------------------------------------')\n",
    "    #iterating through columns\n",
    "    for j in range(N-1):\n",
    "        #iterating through rows\n",
    "        for i in range(j+1,N):\n",
    "            L[i,j] = U[i,j]/U[j,j]\n",
    "            U[i] -= L[i,j]*U[j] \n",
    "            if show:\n",
    "                print('L = '); print(np.array_str(L, precision=2, suppress_small=True))\n",
    "                print('U = '); print(np.array_str(U, precision=2, suppress_small=True))\n",
    "                print('----------------------------------------')\n",
    "    return L,U"
   ]
  },
  {
   "cell_type": "markdown",
   "metadata": {},
   "source": [
    "Once the decomposition is done, solving a linear system like $A x = b$ is straightforward:\n",
    "\n",
    "$$A x = b \\rightarrow L U x = b \\ \\ \\text{ if we set } \\ \\  U x = c \\rightarrow L c = b \\ \\ \\text{ (solve for c) } \\ \\rightarrow U x = c$$\n",
    "\n",
    "and as you might know, solving lower and upper triangular systems can be easily performed by back-substitution and forward-subsitution respectively. "
   ]
  },
  {
   "cell_type": "code",
   "execution_count": 41,
   "metadata": {},
   "outputs": [],
   "source": [
    "\"\"\"\n",
    "Solves a linear system A x = b, where A is a\n",
    "triangular (upper or lower) matrix\n",
    "\"\"\"\n",
    "def solve_triangular(A, b, upper=True):\n",
    "    n = b.shape[0]\n",
    "    x = np.zeros_like(b)\n",
    "    if upper==True:\n",
    "        #perform back-substitution\n",
    "        x[-1] = (1./A[-1,-1]) * b[-1]\n",
    "        for i in range(n-2, -1, -1):\n",
    "            x[i] = (1./A[i,i]) * (b[i] - np.sum(A[i,i+1:] * x[i+1:]))\n",
    "    else:\n",
    "        #perform forward-substitution\n",
    "        x[0] = (1./A[0,0]) * b[0]\n",
    "        for i in range(1,n):\n",
    "            x[i] = (1./A[i,i]) * (b[i] - np.sum(A[i,:i] * x[:i]))\n",
    "    return x\n",
    "\n",
    "def solve_lu(A, b, show=False):\n",
    "    L,U = lu_decomp(A, show)\n",
    "    # L.c = b with c = U.x\n",
    "    c = solve_triangular(L, b, upper=False)\n",
    "    x = solve_triangular(U, c)\n",
    "    return x"
   ]
  },
  {
   "cell_type": "markdown",
   "metadata": {},
   "source": [
    "Let's now try our implementations. We begin by creating a random 100$\\times$100 linear system:"
   ]
  },
  {
   "cell_type": "code",
   "execution_count": 42,
   "metadata": {},
   "outputs": [],
   "source": [
    "A = np.random.random((3,3))\n",
    "b = np.ones(3)"
   ]
  },
  {
   "cell_type": "markdown",
   "metadata": {},
   "source": [
    "and then we compute the solution with our LU solver, and aditionally with the NumPy solver which computes the solution using LAPACK routines."
   ]
  },
  {
   "cell_type": "code",
   "execution_count": 43,
   "metadata": {},
   "outputs": [
    {
     "name": "stdout",
     "output_type": "stream",
     "text": [
      "Initial matrices\n",
      "L = \n",
      "[[1. 0. 0.]\n",
      " [0. 1. 0.]\n",
      " [0. 0. 1.]]\n",
      "U = \n",
      "[[0.71 0.15 0.51]\n",
      " [0.51 0.34 0.48]\n",
      " [0.72 0.95 0.81]]\n",
      "----------------------------------------\n",
      "L = \n",
      "[[1.   0.   0.  ]\n",
      " [0.72 1.   0.  ]\n",
      " [0.   0.   1.  ]]\n",
      "U = \n",
      "[[0.71 0.15 0.51]\n",
      " [0.   0.23 0.11]\n",
      " [0.72 0.95 0.81]]\n",
      "----------------------------------------\n",
      "L = \n",
      "[[1.   0.   0.  ]\n",
      " [0.72 1.   0.  ]\n",
      " [1.02 0.   1.  ]]\n",
      "U = \n",
      "[[0.71 0.15 0.51]\n",
      " [0.   0.23 0.11]\n",
      " [0.   0.8  0.28]]\n",
      "----------------------------------------\n",
      "L = \n",
      "[[1.   0.   0.  ]\n",
      " [0.72 1.   0.  ]\n",
      " [1.02 3.41 1.  ]]\n",
      "U = \n",
      "[[ 0.71  0.15  0.51]\n",
      " [ 0.    0.23  0.11]\n",
      " [ 0.    0.   -0.08]]\n",
      "----------------------------------------\n"
     ]
    }
   ],
   "source": [
    "lu_sol = solve_lu(A,b, show=True)\n",
    "np_sol = np.linalg.solve(A,b)"
   ]
  },
  {
   "cell_type": "markdown",
   "metadata": {},
   "source": [
    "in order to compare these huge vectors, we use the Euclidean metric as follows:"
   ]
  },
  {
   "cell_type": "code",
   "execution_count": 44,
   "metadata": {},
   "outputs": [
    {
     "data": {
      "text/plain": [
       "2.4242552967656972e-14"
      ]
     },
     "execution_count": 44,
     "metadata": {},
     "output_type": "execute_result"
    }
   ],
   "source": [
    "np.linalg.norm(lu_sol - np_sol)"
   ]
  },
  {
   "cell_type": "markdown",
   "metadata": {},
   "source": [
    "which is a very good result!"
   ]
  },
  {
   "cell_type": "markdown",
   "metadata": {},
   "source": [
    "This method has two important facts to be noted:\n",
    "\n",
    "1. Computing the LU decomposition requires $2n^3/3$ floating point operations. Can you check that?\n",
    "2. When computing the LU decomposition you can see the instruction `L[i,j] = U[i,j]/U[j,j]`. Here we divide an entry below the main diagonal by the _pivot_ value. What happens if the pivot equals 0? How can we prevent that? **Answer:** PALU."
   ]
  },
  {
   "cell_type": "markdown",
   "metadata": {},
   "source": [
    "<div id='palu' />\n",
    "\n",
    "### PALU decomposition"
   ]
  },
  {
   "cell_type": "markdown",
   "metadata": {},
   "source": [
    "As you might've noted previously, LU has a problem when a _pivot_ has the value of $0$. To handle this problem, we add row permutations to the original LU algorithm. The procedure is as follows:\n",
    "\n",
    "1. When visiting the row $j$, search for $\\max(|a_{j,j}|,\\ |a_{j+1,j}|,\\ \\ldots,\\ |a_{N-1,j}|,\\ |a_{N,j}|)$ (the maximum between the pivot and the entries below it).\n",
    "2. If such maximum is $|a_{j,k}| \\neq |a_{j,j}|$, permutate rows $i$ and $k$ making $a_{j,k}$ the new pivot.\n",
    "\n",
    "To keep track of all the permutations performed, we use the permutation matrix $P$. It's inicially an identity matrix which permutes its rows in the same way the algorithm does on the resulting matrix. "
   ]
  },
  {
   "cell_type": "code",
   "execution_count": 45,
   "metadata": {},
   "outputs": [],
   "source": [
    "#permutation between rows i and j on matrix A\n",
    "def row_perm(A, i, j):\n",
    "    tmp = np.copy(A[i])\n",
    "    A[i] = A[j]\n",
    "    A[j] = tmp\n",
    "\n",
    "def palu_decomp(A, show=False):\n",
    "    N,_ = A.shape\n",
    "    P = np.identity(N)\n",
    "    L = np.zeros((N,N))\n",
    "    U = np.copy(A)\n",
    "    if show:\n",
    "        print('Initial matrices')\n",
    "        print('P = '); print(np.array_str(P, precision=2, suppress_small=True))\n",
    "        print('L = '); print(np.array_str(L, precision=2, suppress_small=True))\n",
    "        print('U = '); print(np.array_str(U, precision=2, suppress_small=True))\n",
    "        print('----------------------------------------')\n",
    "    #iterating through columns\n",
    "    for j in range(N-1):\n",
    "        #determine the new pivot\n",
    "        p_index = np.argmax(np.abs(U[j:,j]))\n",
    "        if p_index != 0:\n",
    "            row_perm(P, j, j+p_index)\n",
    "            row_perm(U, j, j+p_index)\n",
    "            row_perm(L, j, j+p_index)\n",
    "            if show:\n",
    "                print('A permutation has been made')\n",
    "                print('P = '); print(np.array_str(P, precision=2, suppress_small=True))\n",
    "                print('L = '); print(np.array_str(L, precision=2, suppress_small=True))\n",
    "                print('U = '); print(np.array_str(U, precision=2, suppress_small=True))\n",
    "                print('----------------------------------------')\n",
    "        #iterating through rows\n",
    "        for i in range(j+1,N):\n",
    "            L[i,j] = U[i,j]/U[j,j]\n",
    "            U[i] -= L[i,j]*U[j]\n",
    "            if show:\n",
    "                print('P = '); print(np.array_str(P, precision=2, suppress_small=True))\n",
    "                print('L = '); print(np.array_str(L, precision=2, suppress_small=True))\n",
    "                print('U = '); print(np.array_str(U, precision=2, suppress_small=True))\n",
    "                print('----------------------------------------')\n",
    "    np.fill_diagonal(L,1)\n",
    "    return P,L,U"
   ]
  },
  {
   "cell_type": "markdown",
   "metadata": {},
   "source": [
    "The procedure to solve the system $Ax=b$ remains almost the same. We have to add the efect of the permutation matrix $P$:\n",
    "\n",
    "$$A x = b \\rightarrow P A x = P b \\rightarrow L U x = b' \\ \\ \\text{ if we set } \\ \\  U x = c \\rightarrow L c = b' \\ \\ \\text{ (solve for c) } \\ \\rightarrow U x = c$$"
   ]
  },
  {
   "cell_type": "code",
   "execution_count": 46,
   "metadata": {},
   "outputs": [],
   "source": [
    "def solve_palu(A, b, show=False):\n",
    "    P,L,U = palu_decomp(A, show)\n",
    "    #A.x = b -> P.A.x = P.b = b'\n",
    "    b = np.dot(P,b)\n",
    "    # L.c = b' with c = U.x\n",
    "    c = solve_triangular(L, b, upper=False)\n",
    "    x = solve_triangular(U, c)\n",
    "    return x"
   ]
  },
  {
   "cell_type": "markdown",
   "metadata": {},
   "source": [
    "Let's test this new method against the LU and NumPy solvers"
   ]
  },
  {
   "cell_type": "code",
   "execution_count": 47,
   "metadata": {},
   "outputs": [
    {
     "name": "stdout",
     "output_type": "stream",
     "text": [
      "Initial matrices\n",
      "P = \n",
      "[[1. 0. 0.]\n",
      " [0. 1. 0.]\n",
      " [0. 0. 1.]]\n",
      "L = \n",
      "[[0. 0. 0.]\n",
      " [0. 0. 0.]\n",
      " [0. 0. 0.]]\n",
      "U = \n",
      "[[0.71 0.15 0.51]\n",
      " [0.51 0.34 0.48]\n",
      " [0.72 0.95 0.81]]\n",
      "----------------------------------------\n",
      "A permutation has been made\n",
      "P = \n",
      "[[0. 0. 1.]\n",
      " [0. 1. 0.]\n",
      " [1. 0. 0.]]\n",
      "L = \n",
      "[[0. 0. 0.]\n",
      " [0. 0. 0.]\n",
      " [0. 0. 0.]]\n",
      "U = \n",
      "[[0.72 0.95 0.81]\n",
      " [0.51 0.34 0.48]\n",
      " [0.71 0.15 0.51]]\n",
      "----------------------------------------\n",
      "P = \n",
      "[[0. 0. 1.]\n",
      " [0. 1. 0.]\n",
      " [1. 0. 0.]]\n",
      "L = \n",
      "[[0.   0.   0.  ]\n",
      " [0.71 0.   0.  ]\n",
      " [0.   0.   0.  ]]\n",
      "U = \n",
      "[[ 0.72  0.95  0.81]\n",
      " [ 0.   -0.33 -0.09]\n",
      " [ 0.71  0.15  0.51]]\n",
      "----------------------------------------\n",
      "P = \n",
      "[[0. 0. 1.]\n",
      " [0. 1. 0.]\n",
      " [1. 0. 0.]]\n",
      "L = \n",
      "[[0.   0.   0.  ]\n",
      " [0.71 0.   0.  ]\n",
      " [0.98 0.   0.  ]]\n",
      "U = \n",
      "[[ 0.72  0.95  0.81]\n",
      " [ 0.   -0.33 -0.09]\n",
      " [ 0.   -0.78 -0.28]]\n",
      "----------------------------------------\n",
      "A permutation has been made\n",
      "P = \n",
      "[[0. 0. 1.]\n",
      " [1. 0. 0.]\n",
      " [0. 1. 0.]]\n",
      "L = \n",
      "[[0.   0.   0.  ]\n",
      " [0.98 0.   0.  ]\n",
      " [0.71 0.   0.  ]]\n",
      "U = \n",
      "[[ 0.72  0.95  0.81]\n",
      " [ 0.   -0.78 -0.28]\n",
      " [ 0.   -0.33 -0.09]]\n",
      "----------------------------------------\n",
      "P = \n",
      "[[0. 0. 1.]\n",
      " [1. 0. 0.]\n",
      " [0. 1. 0.]]\n",
      "L = \n",
      "[[0.   0.   0.  ]\n",
      " [0.98 0.   0.  ]\n",
      " [0.71 0.42 0.  ]]\n",
      "U = \n",
      "[[ 0.72  0.95  0.81]\n",
      " [ 0.   -0.78 -0.28]\n",
      " [ 0.    0.    0.02]]\n",
      "----------------------------------------\n"
     ]
    }
   ],
   "source": [
    "palu_sol = solve_palu(A, b, show=True)"
   ]
  },
  {
   "cell_type": "code",
   "execution_count": 48,
   "metadata": {},
   "outputs": [
    {
     "data": {
      "text/plain": [
       "4.782987168225453e-15"
      ]
     },
     "execution_count": 48,
     "metadata": {},
     "output_type": "execute_result"
    }
   ],
   "source": [
    "np.linalg.norm(palu_sol - lu_sol)"
   ]
  },
  {
   "cell_type": "code",
   "execution_count": 49,
   "metadata": {},
   "outputs": [
    {
     "data": {
      "text/plain": [
       "2.897150329470593e-14"
      ]
     },
     "execution_count": 49,
     "metadata": {},
     "output_type": "execute_result"
    }
   ],
   "source": [
    "np.linalg.norm(palu_sol - np_sol)"
   ]
  },
  {
   "cell_type": "markdown",
   "metadata": {},
   "source": [
    "Here are some questions about PALU:\n",
    "1. How much computational complexity has been added to the original $2n^3/3$ of LU?\n",
    "2. Clearly PALU is more robust than LU, but given a non sigular matrix $A$ will it always be possible to perform the PALU decomposition?"
   ]
  },
  {
   "cell_type": "markdown",
   "metadata": {},
   "source": [
    "<div id='cholesky' />\n",
    "\n",
    "### Cholesky"
   ]
  },
  {
   "cell_type": "markdown",
   "metadata": {},
   "source": [
    "This is another direct method only applicable to _symmetric positive-definite_ matrices. In order to try this algorithm we have to create this kind of matrices. The next function generates random _symmetric positive-definite_ matrices. "
   ]
  },
  {
   "cell_type": "code",
   "execution_count": 50,
   "metadata": {},
   "outputs": [],
   "source": [
    "\"\"\"\n",
    "Randomly generates an nxn symmetric positive-\n",
    "definite matrix A.\n",
    "\"\"\"\n",
    "def generate_spd_matrix(n, flag=True):\n",
    "    if flag:\n",
    "        A = np.random.random((n,n))\n",
    "        # Constructing symmetry\n",
    "        A += A.T \n",
    "        # A = np.dot(A.T,A) # Another way\n",
    "        #symmetric+diagonally dominant -> symmetric positive-definite\n",
    "        deltas = 0.1*np.random.random(n)\n",
    "        row_sum = A.sum(axis=1)-np.diag(A)\n",
    "        np.fill_diagonal(A, row_sum+deltas)\n",
    "    else:\n",
    "        B = np.random.random((n,n))\n",
    "        # A way to make sure the quadratic form is greater or equal to zero:\n",
    "        # this means x^T*B^T\\B*x >= ||B*x||, but if B is singular, it could be zero.\n",
    "        A = np.dot(B.T,B)\n",
    "        # To avoid a being singular, we just add a positive diagonal matrix\n",
    "        A = A + np.eye(n)\n",
    "    return A"
   ]
  },
  {
   "cell_type": "markdown",
   "metadata": {},
   "source": [
    "Given a symmetric positive-definite matrix $A \\in \\mathbb{R}^{n \\times n}$, the Cholesky decomposition is of the form $A =R^T R$, with $R$ being an upper triangular matrix. This method takes advantage of the properties of symmetric matrices, reaching approximately twice the efficiency of LU."
   ]
  },
  {
   "cell_type": "code",
   "execution_count": 51,
   "metadata": {},
   "outputs": [],
   "source": [
    "def cholesky_decomp(A, show=False):\n",
    "    N,_ = A.shape\n",
    "    A = np.copy(A)\n",
    "    R = np.zeros((N,N))\n",
    "    if show:\n",
    "        print('Initial matrix')\n",
    "        print('A = '); print(np.array_str(A, precision=2, suppress_small=True))\n",
    "        print('R = '); print(np.array_str(R, precision=2, suppress_small=True))\n",
    "        print('----------------------------------------')\n",
    "    for i in range(N):\n",
    "        R[i,i] = np.sqrt(A[i,i])\n",
    "        u = (1./R[i,i])*A[i,i+1:]\n",
    "        R[i,i+1:] = u\n",
    "        A[i+1:,i+1:] -= np.outer(u,u)\n",
    "        if show:\n",
    "            print('A = '); print(np.array_str(A, precision=2, suppress_small=True))\n",
    "            print('R = '); print(np.array_str(R, precision=2, suppress_small=True))\n",
    "            print('----------------------------------------')\n",
    "    return R"
   ]
  },
  {
   "cell_type": "markdown",
   "metadata": {},
   "source": [
    "The solve stage remains the same as LU:  "
   ]
  },
  {
   "cell_type": "code",
   "execution_count": 52,
   "metadata": {},
   "outputs": [],
   "source": [
    "def solve_cholesky(A, b, show=False):\n",
    "    R = cholesky_decomp(A, show)\n",
    "    #R^T.R.x = b -> R^T.c = b with R.x = c\n",
    "    c = solve_triangular(R.T, b, upper=False)\n",
    "    x = solve_triangular(R, c)\n",
    "    return x"
   ]
  },
  {
   "cell_type": "markdown",
   "metadata": {},
   "source": [
    "Now we test our implementation, comparing time execution with LU and PALU on two different linear systems"
   ]
  },
  {
   "cell_type": "code",
   "execution_count": 53,
   "metadata": {},
   "outputs": [],
   "source": [
    "A = generate_spd_matrix(3)\n",
    "b = np.ones(3)"
   ]
  },
  {
   "cell_type": "code",
   "execution_count": 54,
   "metadata": {},
   "outputs": [
    {
     "name": "stdout",
     "output_type": "stream",
     "text": [
      "Initial matrix\n",
      "A = \n",
      "[[2.22 0.94 1.25]\n",
      " [0.94 1.67 0.63]\n",
      " [1.25 0.63 1.9 ]]\n",
      "R = \n",
      "[[0. 0. 0.]\n",
      " [0. 0. 0.]\n",
      " [0. 0. 0.]]\n",
      "----------------------------------------\n",
      "A = \n",
      "[[2.22 0.94 1.25]\n",
      " [0.94 1.27 0.11]\n",
      " [1.25 0.11 1.2 ]]\n",
      "R = \n",
      "[[1.49 0.63 0.84]\n",
      " [0.   0.   0.  ]\n",
      " [0.   0.   0.  ]]\n",
      "----------------------------------------\n",
      "A = \n",
      "[[2.22 0.94 1.25]\n",
      " [0.94 1.27 0.11]\n",
      " [1.25 0.11 1.19]]\n",
      "R = \n",
      "[[1.49 0.63 0.84]\n",
      " [0.   1.13 0.09]\n",
      " [0.   0.   0.  ]]\n",
      "----------------------------------------\n",
      "A = \n",
      "[[2.22 0.94 1.25]\n",
      " [0.94 1.27 0.11]\n",
      " [1.25 0.11 1.19]]\n",
      "R = \n",
      "[[1.49 0.63 0.84]\n",
      " [0.   1.13 0.09]\n",
      " [0.   0.   1.09]]\n",
      "----------------------------------------\n"
     ]
    },
    {
     "data": {
      "text/plain": [
       "array([1, 0, 0])"
      ]
     },
     "execution_count": 54,
     "metadata": {},
     "output_type": "execute_result"
    }
   ],
   "source": [
    "b=np.array([4,2,0])\n",
    "solve_cholesky(A, b, show=True)"
   ]
  },
  {
   "cell_type": "code",
   "execution_count": 55,
   "metadata": {},
   "outputs": [],
   "source": [
    "A = generate_spd_matrix(100)\n",
    "b = np.ones(100)"
   ]
  },
  {
   "cell_type": "code",
   "execution_count": 56,
   "metadata": {},
   "outputs": [
    {
     "name": "stdout",
     "output_type": "stream",
     "text": [
      "3.77 ms ± 108 µs per loop (mean ± std. dev. of 7 runs, 100 loops each)\n",
      "20.2 ms ± 462 µs per loop (mean ± std. dev. of 7 runs, 10 loops each)\n",
      "20.6 ms ± 613 µs per loop (mean ± std. dev. of 7 runs, 10 loops each)\n"
     ]
    }
   ],
   "source": [
    "%timeit solve_cholesky(A, b)\n",
    "%timeit solve_lu(A, b)\n",
    "%timeit solve_palu(A, b)"
   ]
  },
  {
   "cell_type": "code",
   "execution_count": 57,
   "metadata": {},
   "outputs": [],
   "source": [
    "A = generate_spd_matrix(1000)\n",
    "b = np.ones(1000)"
   ]
  },
  {
   "cell_type": "code",
   "execution_count": 58,
   "metadata": {},
   "outputs": [
    {
     "name": "stdout",
     "output_type": "stream",
     "text": [
      "848 ms ± 9.13 ms per loop (mean ± std. dev. of 7 runs, 1 loop each)\n",
      "2.79 s ± 214 ms per loop (mean ± std. dev. of 7 runs, 1 loop each)\n",
      "2.84 s ± 193 ms per loop (mean ± std. dev. of 7 runs, 1 loop each)\n"
     ]
    }
   ],
   "source": [
    "%timeit solve_cholesky(A, b)\n",
    "%timeit solve_lu(A, b)\n",
    "%timeit solve_palu(A, b)"
   ]
  },
  {
   "cell_type": "markdown",
   "metadata": {},
   "source": [
    "<div id='im' />\n",
    "\n",
    "## Iterative Methods"
   ]
  },
  {
   "cell_type": "code",
   "execution_count": 59,
   "metadata": {},
   "outputs": [],
   "source": [
    "\"\"\"\n",
    "Randomly generates an nxn strictly diagonally \n",
    "dominant matrix A.\n",
    "\"\"\"\n",
    "def generate_dd_matrix(n):\n",
    "    A = np.random.random((n,n))\n",
    "    deltas = 0.1*np.random.random(n)\n",
    "    row_sum = A.sum(axis=1)-np.diag(A)\n",
    "    np.fill_diagonal(A, row_sum+deltas)\n",
    "    return A\n",
    "\n",
    "\"\"\"\n",
    "Computes relative error between each row on \n",
    "X matrix and y vector. \n",
    "\"\"\"\n",
    "def error(X, y):\n",
    "    D = X-y\n",
    "    err = np.linalg.norm(D, axis=1, ord=np.inf)\n",
    "    return err"
   ]
  },
  {
   "cell_type": "markdown",
   "metadata": {},
   "source": [
    "As before we will create a linear system $A x = b$, with $A$ as a diagonally dominant matrix, which is a **sufficient** condition for the methods we will study in this section converge "
   ]
  },
  {
   "cell_type": "code",
   "execution_count": 60,
   "metadata": {},
   "outputs": [
    {
     "name": "stdout",
     "output_type": "stream",
     "text": [
      "A=\n",
      "[[ 3.  -1.   0.   0.   0.   0.5]\n",
      " [-1.   3.  -1.   0.   0.5  0. ]\n",
      " [ 0.  -1.   3.  -1.   0.   0. ]\n",
      " [ 0.   0.  -1.   3.  -1.   0. ]\n",
      " [ 0.   0.5  0.  -1.   3.  -1. ]\n",
      " [ 0.5  0.   0.   0.  -1.   3. ]]\n",
      "b=\n",
      "[2.5 1.5 1.  1.  1.5 2.5]\n"
     ]
    }
   ],
   "source": [
    "A = np.array([[3, -1, 0, 0, 0, 0.5],[-1, 3, -1, 0, 0.5, 0],[0, -1, 3, -1, 0, 0],[0, 0, -1, 3, -1, 0],\n",
    "              [0, 0.5, 0, -1, 3, -1],[0.5, 0, 0, 0, -1, 3]])\n",
    "b = np.array([2.5, 1.5, 1., 1., 1.5, 2.5])\n",
    "print ('A='); print (A)\n",
    "print ('b='); print (b)"
   ]
  },
  {
   "cell_type": "markdown",
   "metadata": {},
   "source": [
    "and find the solution $x$ through `np.linalg.solve` to use it as the reference solution-"
   ]
  },
  {
   "cell_type": "code",
   "execution_count": 61,
   "metadata": {},
   "outputs": [],
   "source": [
    "np_sol = np.linalg.solve(A,b)"
   ]
  },
  {
   "cell_type": "markdown",
   "metadata": {
    "collapsed": true
   },
   "source": [
    "### Jacobi"
   ]
  },
  {
   "cell_type": "code",
   "execution_count": 62,
   "metadata": {},
   "outputs": [],
   "source": [
    "\"\"\"\n",
    "Iterative methods implementations returns an array X\n",
    "with the the solutions at each iteration\n",
    "\"\"\"\n",
    "def jacobi(A, b, n_iter=50):\n",
    "    n = A.shape[0]\n",
    "    #array with solutions\n",
    "    X = np.empty((n_iter, n))\n",
    "    #initial guess\n",
    "    X[0] = np.zeros(n)\n",
    "    #submatrices\n",
    "    D = np.diag(A)\n",
    "    Dinv = D**-1\n",
    "    R = A - np.diag(D) # R = (L+U)\n",
    "    for i in range(1, n_iter):\n",
    "        # X[i] = Dinv*(b - np.dot(R, X[i-1]))\n",
    "        # v1.12\n",
    "        ri = b - np.dot(A, X[i-1])\n",
    "        X[i] = X[i-1]+Dinv*ri\n",
    "    return X\n",
    "def jacobi_M(A):\n",
    "    L = np.tril(A,-1)\n",
    "    U = np.triu(A,1)\n",
    "    D = np.diag(np.diag(A))\n",
    "    M = -np.dot(np.linalg.inv(D),L+U)\n",
    "    return M\n",
    "\n",
    "# \\mathbf{x}_{n+1}=M\\,\\mathbf{x}_{n}+\\mathbf{c}"
   ]
  },
  {
   "cell_type": "markdown",
   "metadata": {},
   "source": [
    "Now let's resolve the same linear system with Jacobi method!"
   ]
  },
  {
   "cell_type": "code",
   "execution_count": 63,
   "metadata": {},
   "outputs": [],
   "source": [
    "jac_sol = jacobi(A,b, n_iter=50)"
   ]
  },
  {
   "cell_type": "code",
   "execution_count": 64,
   "metadata": {},
   "outputs": [],
   "source": [
    "jac_err = error(jac_sol, np_sol)\n",
    "it = np.linspace(1, 50, 50)"
   ]
  },
  {
   "cell_type": "code",
   "execution_count": 65,
   "metadata": {},
   "outputs": [
    {
     "data": {
      "image/png": "[encoded data removed]",
      "text/plain": [
       "<Figure size 864x432 with 1 Axes>"
      ]
     },
     "metadata": {
      "needs_background": "light"
     },
     "output_type": "display_data"
    }
   ],
   "source": [
    "plt.figure(figsize=(12,6))\n",
    "plt.semilogy(it, jac_err, marker='o', linestyle='--', color='b')\n",
    "plt.grid(True)\n",
    "plt.xlabel('Iterations')\n",
    "plt.ylabel('Error')\n",
    "plt.title('Infinity norm error for Jacobi method')\n",
    "plt.show()"
   ]
  },
  {
   "cell_type": "code",
   "execution_count": 66,
   "metadata": {},
   "outputs": [
    {
     "name": "stdout",
     "output_type": "stream",
     "text": [
      "1.1055415967851334\n"
     ]
    }
   ],
   "source": [
    "Mj = jacobi_M(A)\n",
    "print(np.linalg.norm(Mj))"
   ]
  },
  {
   "cell_type": "code",
   "execution_count": 67,
   "metadata": {},
   "outputs": [
    {
     "data": {
      "text/plain": [
       "array([-0.56734117, -0.53694624, -0.03039493,  0.03039493,  0.56734117,\n",
       "        0.53694624])"
      ]
     },
     "execution_count": 67,
     "metadata": {},
     "output_type": "execute_result"
    }
   ],
   "source": [
    "np.linalg.eigvals(Mj)"
   ]
  },
  {
   "cell_type": "code",
   "execution_count": 68,
   "metadata": {},
   "outputs": [
    {
     "data": {
      "text/plain": [
       "array([0.56734117, 0.53694624, 0.03039493, 0.03039493, 0.56734117,\n",
       "       0.53694624])"
      ]
     },
     "execution_count": 68,
     "metadata": {},
     "output_type": "execute_result"
    }
   ],
   "source": [
    "np.abs(np.linalg.eigvals(Mj))"
   ]
  },
  {
   "cell_type": "code",
   "execution_count": 69,
   "metadata": {},
   "outputs": [
    {
     "data": {
      "text/plain": [
       "0.5673411660774046"
      ]
     },
     "execution_count": 69,
     "metadata": {},
     "output_type": "execute_result"
    }
   ],
   "source": [
    "np.max(np.abs(np.linalg.eigvals(Mj)))"
   ]
  },
  {
   "cell_type": "markdown",
   "metadata": {},
   "source": [
    "### Gauss Seidel"
   ]
  },
  {
   "cell_type": "code",
   "execution_count": 70,
   "metadata": {},
   "outputs": [],
   "source": [
    "def gauss_seidel(A, b, n_iter=50):\n",
    "    n = A.shape[0]\n",
    "    #array with solutions\n",
    "    X = np.empty((n_iter, n))\n",
    "    #initial guess\n",
    "    X[0] = np.zeros(n)\n",
    "    #submatrices\n",
    "    R = np.tril(A) #R=(L+D)\n",
    "    U = A-R\n",
    "    for i in range(1, n_iter):\n",
    "        #X[i] = solve_triangular(R, b-np.dot(U, X[i-1]), upper=False)\n",
    "        # v1.11\n",
    "        X[i] = X[i-1]+solve_triangular(R, b-np.dot(A, X[i-1]), upper=False)\n",
    "    return X\n",
    "def gauss_seidel_M(A):\n",
    "    L = np.tril(A,-1)\n",
    "    U = np.triu(A,1)\n",
    "    D = np.diag(np.diag(A))\n",
    "    M = -np.dot(np.linalg.inv(L+D),U)\n",
    "    return M"
   ]
  },
  {
   "cell_type": "markdown",
   "metadata": {},
   "source": [
    "Now let's resolve the same linear system with Gauss-Seidel method!"
   ]
  },
  {
   "cell_type": "code",
   "execution_count": 71,
   "metadata": {},
   "outputs": [],
   "source": [
    "gauss_sol = gauss_seidel(A,b)"
   ]
  },
  {
   "cell_type": "code",
   "execution_count": 72,
   "metadata": {},
   "outputs": [],
   "source": [
    "gauss_err = error(gauss_sol, np_sol)"
   ]
  },
  {
   "cell_type": "code",
   "execution_count": 73,
   "metadata": {},
   "outputs": [
    {
     "data": {
      "image/png": "[encoded data removed]",
      "text/plain": [
       "<Figure size 864x432 with 1 Axes>"
      ]
     },
     "metadata": {
      "needs_background": "light"
     },
     "output_type": "display_data"
    }
   ],
   "source": [
    "plt.figure(figsize=(12,6))\n",
    "plt.semilogy(it, gauss_err, marker='o', linestyle='--', color='r')\n",
    "plt.grid(True)\n",
    "plt.xlabel('Iterations')\n",
    "plt.ylabel('Error')\n",
    "plt.title('Infinity norm error for Gauss method')\n",
    "plt.show()"
   ]
  },
  {
   "cell_type": "markdown",
   "metadata": {},
   "source": [
    "Here are some questions about Gauss-Seidel:\n",
    "- Can you explain what the differences between this and Jacobi method are?\n",
    "- Why do we use `solve_triangular` instead of `np.linalg.solve` or something similar?"
   ]
  },
  {
   "cell_type": "code",
   "execution_count": 74,
   "metadata": {},
   "outputs": [
    {
     "name": "stdout",
     "output_type": "stream",
     "text": [
      "0.8351230731594124\n"
     ]
    }
   ],
   "source": [
    "Mgs = gauss_seidel_M(A)\n",
    "print(np.linalg.norm(Mgs))"
   ]
  },
  {
   "cell_type": "code",
   "execution_count": 75,
   "metadata": {},
   "outputs": [
    {
     "data": {
      "text/plain": [
       "0.37372799877238394"
      ]
     },
     "execution_count": 75,
     "metadata": {},
     "output_type": "execute_result"
    }
   ],
   "source": [
    "np.max(np.abs(np.linalg.eigvals(Mgs)))"
   ]
  },
  {
   "cell_type": "markdown",
   "metadata": {},
   "source": [
    "### SOR"
   ]
  },
  {
   "cell_type": "code",
   "execution_count": 76,
   "metadata": {},
   "outputs": [],
   "source": [
    "def sor(A, b, w=1.05, n_iter=50):\n",
    "    n = A.shape[0]\n",
    "    #array with solutions\n",
    "    X = np.empty((n_iter, n))\n",
    "    #initial guess\n",
    "    X[0] = np.zeros(n)\n",
    "    #submatrices\n",
    "    R = np.tril(A) #R=(L+D)\n",
    "    U = A-R\n",
    "    # v1.11\n",
    "    L = np.tril(A,-1)\n",
    "    D = np.diag(np.diag(A))\n",
    "    M = L+D/w\n",
    "    for i in range(1, n_iter):\n",
    "        #X_i = solve_triangular(R, b-np.dot(U, X[i-1]), upper=False)\n",
    "        #X[i] = w*X_i + (1-w)*X[i-1]\n",
    "        # v1.11\n",
    "        X[i] = X[i-1]+solve_triangular(M, b-np.dot(A, X[i-1]), upper=False)\n",
    "    return X\n",
    "def sor_M(A,w=1.05):\n",
    "    L = np.tril(A,-1)\n",
    "    U = np.triu(A,1)\n",
    "    D = np.diag(np.diag(A))\n",
    "    M = np.dot(np.linalg.inv(w*L + D),((1-w)*D -w*U))\n",
    "    return M"
   ]
  },
  {
   "cell_type": "markdown",
   "metadata": {},
   "source": [
    "Now let's resolve the same linear system with Jacobi method!"
   ]
  },
  {
   "cell_type": "code",
   "execution_count": 77,
   "metadata": {},
   "outputs": [],
   "source": [
    "sor_sol = sor(A, b, w=1.15)"
   ]
  },
  {
   "cell_type": "code",
   "execution_count": 78,
   "metadata": {},
   "outputs": [],
   "source": [
    "sor_err = error(sor_sol, np_sol)"
   ]
  },
  {
   "cell_type": "code",
   "execution_count": 79,
   "metadata": {},
   "outputs": [
    {
     "data": {
      "image/png": "[encoded data removed]",
      "text/plain": [
       "<Figure size 864x432 with 1 Axes>"
      ]
     },
     "metadata": {
      "needs_background": "light"
     },
     "output_type": "display_data"
    }
   ],
   "source": [
    "plt.figure(figsize=(12,6))\n",
    "plt.semilogy(it, sor_err, marker='o', linestyle='--', color='g')\n",
    "plt.grid(True)\n",
    "plt.xlabel('Iterations')\n",
    "plt.ylabel('Error')\n",
    "plt.title('Infinity norm error for SOR method')\n",
    "plt.show()"
   ]
  },
  {
   "cell_type": "code",
   "execution_count": 80,
   "metadata": {},
   "outputs": [
    {
     "name": "stdout",
     "output_type": "stream",
     "text": [
      "0.850053072081257\n"
     ]
    }
   ],
   "source": [
    "Msor = sor_M(A)\n",
    "print(np.linalg.norm(Msor))"
   ]
  },
  {
   "cell_type": "code",
   "execution_count": 81,
   "metadata": {},
   "outputs": [
    {
     "data": {
      "text/plain": [
       "0.33434770548114945"
      ]
     },
     "execution_count": 81,
     "metadata": {},
     "output_type": "execute_result"
    }
   ],
   "source": [
    "np.max(np.abs(np.linalg.eigvals(Msor)))"
   ]
  },
  {
   "cell_type": "markdown",
   "metadata": {},
   "source": [
    "How can we choose a good value of $\\omega$? Well there are  some methods you could search, but for now we will try a naive way, i.e, computing the solution for a range $\\omega \\in [1,1.3]$ as follows:"
   ]
  },
  {
   "cell_type": "code",
   "execution_count": 82,
   "metadata": {},
   "outputs": [],
   "source": [
    "n = 30 #width of subdivisions\n",
    "sor_solutions = list()\n",
    "for w in np.linspace(1., 1.3, n):\n",
    "    sor_solutions.append(sor(A, b, w, n_iter=5)[-1])\n",
    "np.asarray(sor_solutions)\n",
    "\n",
    "#now compute error solutions with each w\n",
    "sor_errors = error(sor_solutions, np_sol)\n",
    "w = np.linspace(1., 1.3, n)"
   ]
  },
  {
   "cell_type": "markdown",
   "metadata": {},
   "source": [
    "as you can see, we compute the SOR solution with 5 iterations for each $\\omega$ on the given range. "
   ]
  },
  {
   "cell_type": "code",
   "execution_count": 83,
   "metadata": {},
   "outputs": [
    {
     "data": {
      "image/png": "[encoded data removed]",
      "text/plain": [
       "<Figure size 864x432 with 1 Axes>"
      ]
     },
     "metadata": {
      "needs_background": "light"
     },
     "output_type": "display_data"
    }
   ],
   "source": [
    "plt.figure(figsize=(12,6))\n",
    "plt.semilogy(w, sor_errors, marker='o', linestyle='--', color='g')\n",
    "plt.grid(True)\n",
    "plt.xlabel('w')\n",
    "plt.ylabel('Error')\n",
    "plt.title('Infinity norm error after 5 steps of SOR as a function of w')\n",
    "plt.show()"
   ]
  },
  {
   "cell_type": "markdown",
   "metadata": {},
   "source": [
    "Here are some questions about SOR:\n",
    "- Why can averaging the current solution with the Gauss-Seidel solution improve convergence?\n",
    "- Why do we use $\\omega > 1$ and not $\\omega < 1$?\n",
    "- Could you describe a method to find the best value of $\\omega$ (the one which optimizes convergence)?\n",
    "- Would it be a better option to re-compute $\\omega$ at each iteration?"
   ]
  },
  {
   "cell_type": "markdown",
   "metadata": {},
   "source": [
    "<div id='ca' />\n",
    "\n",
    "## Convergence Analysis"
   ]
  },
  {
   "cell_type": "markdown",
   "metadata": {},
   "source": [
    "Let's see convergence plots all together"
   ]
  },
  {
   "cell_type": "code",
   "execution_count": 84,
   "metadata": {
    "scrolled": false
   },
   "outputs": [
    {
     "data": {
      "image/png": "[encoded data removed]",
      "text/plain": [
       "<Figure size 864x432 with 1 Axes>"
      ]
     },
     "metadata": {
      "needs_background": "light"
     },
     "output_type": "display_data"
    }
   ],
   "source": [
    "plt.figure(figsize=(12,6))\n",
    "plt.semilogy(it, jac_err, marker='o', linestyle='--', color='b', label='Jacobi')\n",
    "plt.semilogy(it, gauss_err, marker='o', linestyle='--', color='r', label='Gauss-Seidel')\n",
    "plt.semilogy(it, sor_err, marker='o', linestyle='--', color='g', label='SOR')\n",
    "plt.grid(True)\n",
    "plt.xlabel('Iterations')\n",
    "plt.ylabel('Error')\n",
    "plt.title('Infinity norm error for all methods')\n",
    "plt.legend(loc=0)\n",
    "plt.show()"
   ]
  },
  {
   "cell_type": "markdown",
   "metadata": {},
   "source": [
    "<div id='ex' />\n",
    "\n",
    "## Exercises"
   ]
  },
  {
   "cell_type": "markdown",
   "metadata": {},
   "source": [
    "Now that you know how to solve systems of linear equations problem with these methods, let's try to answer a few questions!\n",
    "\n",
    "$a)$ Find the values of $\\alpha$ that make possible to do a LU descomposition of the following matrix:\n",
    "\n",
    "$$ \\begin{bmatrix}\n",
    "   \\alpha & 2  \\\\[0.3em]\n",
    "   1 & \\alpha  \\end{bmatrix} $$\n",
    "\n",
    "$b)$- Let $A$ be the following matrix:\n",
    "\n",
    "$$ A = \\begin{bmatrix}\n",
    "        2 &  4 &  2  \\\\[0.3em]\n",
    "       -1 &  1 &  2  \\\\[0.3em]\n",
    "       -1 & -3 & -1  \\end{bmatrix} $$ \n",
    "       \n",
    "   - Find the PALU descomposition of the matrix $A$.\n",
    "   \n",
    "   - Solve the system of equations $Ax = \\[1 , \\frac{1}{2}, \\frac{1}{3}\\]^T$.\n",
    "\n",
    "$c)$ Considering this matrix:\n",
    "\n",
    "$$  \\begin{bmatrix}\n",
    "    1 & 1 & 0  \\\\[0.3em]\n",
    "    1 & 5 & 2  \\\\[0.3em]\n",
    "    0 & 2 & 3  \\end{bmatrix} $$\n",
    "       \n",
    "   - Find the LU descomposition.\n",
    "    \n",
    "   - Find the Cholesky descomposition.\n",
    "    \n",
    "   - Compare the efficiency of both methods.\n",
    "\n",
    "$d)$ Use Jacobi, Gauss Seidel, and SOR to solve the following system of equations (number of iterations = 2):\n",
    "\n",
    "$$2x + y = 3$$\n",
    "$$x + 2y = 2$$\n",
    "\n",
    "   - Which is the best method to solve this problem (with better results)?\n",
    "\n",
    "$e)$ Explain the pros and cons of using iterative methods instead of the direct ones.\n",
    "\n"
   ]
  },
  {
   "cell_type": "markdown",
   "metadata": {},
   "source": [
    "## Extra: Hilbert Matrix"
   ]
  },
  {
   "cell_type": "code",
   "execution_count": 85,
   "metadata": {},
   "outputs": [],
   "source": [
    "from scipy.linalg import hilbert"
   ]
  },
  {
   "cell_type": "code",
   "execution_count": 86,
   "metadata": {},
   "outputs": [],
   "source": [
    "N=20\n",
    "errors=np.zeros(N+1)\n",
    "kappas=np.zeros(N+1)\n",
    "my_range=np.arange(5,N+1)\n",
    "for n in my_range:\n",
    "    A=hilbert(n)\n",
    "    x_exact=np.ones(n)\n",
    "    b=np.dot(A,x_exact)\n",
    "    x=np.linalg.solve(A,b)\n",
    "    errors[n]=np.linalg.norm(x-x_exact,ord=np.inf)\n",
    "    kappas[n]=np.linalg.cond(A,2)"
   ]
  },
  {
   "cell_type": "code",
   "execution_count": 87,
   "metadata": {},
   "outputs": [
    {
     "data": {
      "image/png": "[encoded data removed]",
      "text/plain": [
       "<Figure size 864x432 with 1 Axes>"
      ]
     },
     "metadata": {
      "needs_background": "light"
     },
     "output_type": "display_data"
    }
   ],
   "source": [
    "plt.figure(figsize=(12,6))\n",
    "plt.semilogy(my_range, 10.**(-16+np.log10(kappas[my_range])), marker='o', linestyle='--', color='b',label='Estimated forward error')\n",
    "plt.semilogy(my_range, errors[my_range], marker='o', linestyle='--', color='r',label='Forward error')\n",
    "plt.grid(True)\n",
    "plt.xlabel('n')\n",
    "#plt.ylabel('$\\kappa$ and errors')\n",
    "plt.title('')\n",
    "plt.legend(loc=0)\n",
    "plt.show()"
   ]
  },
  {
   "cell_type": "markdown",
   "metadata": {},
   "source": [
    "(1/Kappa(A))||b-A x_a||/||b|| <= ||x-x_a||/||x||<= Kappa(A)||b-A x_a||/||b|| "
   ]
  },
  {
   "cell_type": "code",
   "execution_count": 88,
   "metadata": {},
   "outputs": [
    {
     "name": "stdout",
     "output_type": "stream",
     "text": [
      "19.814106208776867\n"
     ]
    }
   ],
   "source": [
    "n=200\n",
    "A=hilbert(n)\n",
    "x_exact=np.ones(n)\n",
    "b=np.dot(A,x_exact)\n",
    "x=np.linalg.solve(A,b)\n",
    "kappa=np.linalg.cond(A,2)\n",
    "print(np.log10(kappa))"
   ]
  },
  {
   "cell_type": "code",
   "execution_count": 89,
   "metadata": {},
   "outputs": [
    {
     "data": {
      "text/plain": [
       "1.339099724944585e-13"
      ]
     },
     "execution_count": 89,
     "metadata": {},
     "output_type": "execute_result"
    }
   ],
   "source": [
    "np.linalg.norm(b-np.dot(A,x))"
   ]
  },
  {
   "cell_type": "code",
   "execution_count": 90,
   "metadata": {},
   "outputs": [
    {
     "data": {
      "text/plain": [
       "6.517877723650372e+19"
      ]
     },
     "execution_count": 90,
     "metadata": {},
     "output_type": "execute_result"
    }
   ],
   "source": [
    "kappa"
   ]
  },
  {
   "cell_type": "code",
   "execution_count": 91,
   "metadata": {},
   "outputs": [
    {
     "data": {
      "text/plain": [
       "9653.459067648608"
      ]
     },
     "execution_count": 91,
     "metadata": {},
     "output_type": "execute_result"
    }
   ],
   "source": [
    "np.linalg.norm(x-x_exact)"
   ]
  },
  {
   "cell_type": "code",
   "execution_count": 92,
   "metadata": {},
   "outputs": [
    {
     "data": {
      "text/plain": [
       "1.0"
      ]
     },
     "execution_count": 92,
     "metadata": {},
     "output_type": "execute_result"
    }
   ],
   "source": [
    "x_exact[0]"
   ]
  },
  {
   "cell_type": "code",
   "execution_count": 93,
   "metadata": {},
   "outputs": [
    {
     "data": {
      "text/plain": [
       "array([ 1.00000665e+00,  9.98750690e-01,  1.05609273e+00, -5.14904933e-02,\n",
       "        1.11565147e+01, -5.44909507e+01,  1.77079698e+02, -3.10039439e+02,\n",
       "        2.52290754e+02, -6.18643339e+00, -8.46142339e+01,  1.58745346e+02,\n",
       "       -3.90995456e+02,  1.52586006e+02,  1.61201278e+02,  7.17163400e+01,\n",
       "        2.87833782e+02, -4.96853279e+02,  5.71029708e+00, -8.55677027e+01,\n",
       "       -2.81006315e+02,  7.37144440e+01,  8.47670286e+02, -2.51821751e+02,\n",
       "       -4.01263048e+01,  1.13778089e+02, -2.73176943e+02, -4.96215668e+01,\n",
       "        5.54820641e+01,  2.86732668e+02, -4.00106753e+02, -4.83750609e+02,\n",
       "        4.24250382e+02, -2.75718791e+02, -1.61323316e+02,  7.49846984e+02,\n",
       "        9.76782056e+01, -4.98498641e+02,  1.93499727e+02,  6.13198603e+02,\n",
       "        5.29735239e+02, -8.47667734e+02,  1.56680387e+02,  4.84095571e+01,\n",
       "       -1.30630864e+02, -1.99077267e+01, -1.45806500e+02, -8.29331429e+02,\n",
       "       -8.44094280e+01, -7.36246701e+01,  1.77793660e+02,  6.80464259e+00,\n",
       "       -1.32368252e+00,  3.86312603e+02, -1.93019853e+02,  3.84235362e+02,\n",
       "        2.19594340e+02, -4.62564061e+01,  6.78305495e+02, -2.49007244e+02,\n",
       "        4.61044254e+02,  3.73587071e+01, -9.65972951e-01, -6.59901562e+01,\n",
       "       -1.14385924e+03,  1.73079092e+02,  1.24768319e+02, -7.92924214e+00,\n",
       "        1.14098555e+02, -4.88750667e+02, -8.97675305e+01,  5.00316496e+02,\n",
       "        6.43865275e+02, -4.39561099e+01, -1.28718498e+03,  4.75814920e+01,\n",
       "        3.42639107e+02, -3.72555510e+02, -7.11008667e+02, -1.63563631e+02,\n",
       "        4.57680984e+01, -4.26455441e+02, -1.12022734e+02,  3.62000309e+02,\n",
       "        1.56623759e+03,  2.43049100e+02,  1.13009447e+03,  6.23419351e+02,\n",
       "       -7.38812487e+02, -3.71331596e+02, -3.63320456e+01, -3.81181177e+01,\n",
       "       -1.71559576e+02,  6.41874141e+02,  1.03793050e+03, -1.17290313e+02,\n",
       "       -7.58407807e+02, -5.19793731e+02, -4.69198106e+02, -7.02644717e+02,\n",
       "       -2.11964372e+02, -1.51445917e+02, -7.48495310e+02, -1.94036548e+02,\n",
       "        5.35214822e+02,  8.18057059e+02, -1.72246340e+03,  9.66285474e+02,\n",
       "        8.67925652e+02, -8.44711140e+01, -5.14694938e+02, -1.34040451e+03,\n",
       "        1.13961784e+03,  1.17710456e+02, -8.86960406e+02,  1.43471937e+03,\n",
       "       -2.73058790e+02,  1.27186187e+03,  1.66296842e+02,  2.27653843e+02,\n",
       "        1.53615417e+03, -8.97108984e+02, -9.36941444e+02,  6.52726989e+02,\n",
       "        2.63588535e+02, -2.70396420e+02,  1.33930489e+02, -1.50475619e+03,\n",
       "       -1.43047952e+03,  6.89976330e+02,  6.74375226e+01, -1.88906825e+03,\n",
       "        4.18938652e+02,  1.21193198e+03,  5.01197898e+02,  8.10671929e+02,\n",
       "        3.21354454e+02, -3.49865988e+02, -3.62963040e+02, -7.19776727e+02,\n",
       "        6.48692274e+02, -9.35634452e+02,  6.41490822e+02,  1.99170846e+02,\n",
       "        1.02321761e+03, -5.64029729e+02,  7.19899462e+01, -9.33472270e+02,\n",
       "       -5.97579457e+02,  8.30781590e+02,  4.48147252e+02,  4.53324620e+02,\n",
       "        9.51088705e+02,  1.52544307e+02, -3.48433087e+02, -8.07482055e+02,\n",
       "       -7.24706155e+02,  1.24831179e+03, -3.81328089e+02, -2.00904160e+02,\n",
       "       -7.35405420e+02,  1.25105289e+03, -8.42038773e+02,  2.28646820e+02,\n",
       "       -5.91082108e+02, -9.02251341e+02, -1.94190823e+03,  3.06129279e+02,\n",
       "       -1.20356724e+03,  2.00782139e+02,  1.70049107e+03,  4.89738888e+02,\n",
       "        2.18831003e+03,  5.07485690e+02,  3.87556307e+02, -1.26893956e+02,\n",
       "        8.23144999e+01, -8.97337566e+02,  9.89190976e+02,  5.49768305e+02,\n",
       "       -6.31474577e+01,  2.60562145e+02, -2.56731867e+02, -1.84314906e+02,\n",
       "       -1.93304261e+03,  4.80959141e+02, -9.19920973e+02, -1.18978074e+03,\n",
       "        7.43313404e+01,  1.96504331e+01, -2.39542973e+01, -6.46737579e+02,\n",
       "        1.16653906e+03,  6.90088263e+02,  2.68258341e+02,  6.91811802e+02,\n",
       "        1.23660035e+03, -4.23930662e+02, -1.61578608e+03,  2.70684837e+02])"
      ]
     },
     "execution_count": 93,
     "metadata": {},
     "output_type": "execute_result"
    }
   ],
   "source": [
    "x"
   ]
  },
  {
   "cell_type": "code",
   "execution_count": 94,
   "metadata": {},
   "outputs": [
    {
     "data": {
      "image/png": "[encoded data removed]",
      "text/plain": [
       "<Figure size 432x288 with 1 Axes>"
      ]
     },
     "metadata": {
      "needs_background": "light"
     },
     "output_type": "display_data"
    }
   ],
   "source": [
    "plt.plot(x,'.')\n",
    "plt.show()"
   ]
  },
  {
   "cell_type": "markdown",
   "metadata": {},
   "source": [
    "<div id='acknowledgements' />\n",
    "\n",
    "# Acknowledgements\n",
    "* _Material created by professor Claudio Torres_ (`ctorres@inf.utfsm.cl`) _and assistants: Laura Bermeo, Alvaro Salinas, Axel Simonsen and Martín Villanueva. DI UTFSM. April 2016._\n",
    "* _Update May 2020 - v1.11 - C.Torres_ : Fixing formatting issues."
   ]
  },
  {
   "cell_type": "code",
   "execution_count": 95,
   "metadata": {},
   "outputs": [
    {
     "name": "stdout",
     "output_type": "stream",
     "text": [
      "Initial matrices\n",
      "L = \n",
      "[[1. 0.]\n",
      " [0. 1.]]\n",
      "U = \n",
      "[[0. 1.]\n",
      " [1. 2.]]\n",
      "----------------------------------------\n",
      "L = \n",
      "[[1.e+00 0.e+00]\n",
      " [1.e+20 1.e+00]]\n",
      "U = \n",
      "[[ 1.e-20  1.e+00]\n",
      " [ 0.e+00 -1.e+20]]\n",
      "----------------------------------------\n"
     ]
    },
    {
     "data": {
      "text/plain": [
       "(array([[1.e+00, 0.e+00],\n",
       "        [1.e+20, 1.e+00]]),\n",
       " array([[ 1.e-20,  1.e+00],\n",
       "        [ 0.e+00, -1.e+20]]))"
      ]
     },
     "execution_count": 95,
     "metadata": {},
     "output_type": "execute_result"
    }
   ],
   "source": [
    "lu_decomp(np.array([[1e-20, 1],[1,2]]), show=True)"
   ]
  },
  {
   "cell_type": "code",
   "execution_count": null,
   "metadata": {},
   "outputs": [],
   "source": []
  }
 ],
 "metadata": {
  "anaconda-cloud": {},
  "kernelspec": {
   "display_name": "Python 3",
   "language": "python",
   "name": "python3"
  },
  "language_info": {
   "codemirror_mode": {
    "name": "ipython",
    "version": 3
   },
   "file_extension": ".py",
   "mimetype": "text/x-python",
   "name": "python",
   "nbconvert_exporter": "python",
   "pygments_lexer": "ipython3",
   "version": "3.7.3"
  }
 },
 "nbformat": 4,
 "nbformat_minor": 1
}
